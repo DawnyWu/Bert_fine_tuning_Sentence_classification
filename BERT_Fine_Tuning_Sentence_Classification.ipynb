{
  "nbformat": 4,
  "nbformat_minor": 0,
  "metadata": {
    "colab": {
      "name": "BERT_Fine_Tuning_Sentence_Classification.ipynb",
      "provenance": [],
      "collapsed_sections": []
    },
    "kernelspec": {
      "name": "python3",
      "display_name": "Python 3"
    },
    "accelerator": "GPU",
    "widgets": {
      "application/vnd.jupyter.widget-state+json": {
        "253911ce86c64d078bcaa10eda3570b5": {
          "model_module": "@jupyter-widgets/controls",
          "model_name": "HBoxModel",
          "state": {
            "_view_name": "HBoxView",
            "_dom_classes": [],
            "_model_name": "HBoxModel",
            "_view_module": "@jupyter-widgets/controls",
            "_model_module_version": "1.5.0",
            "_view_count": null,
            "_view_module_version": "1.5.0",
            "box_style": "",
            "layout": "IPY_MODEL_9004b17047144c67876c1239459c10f0",
            "_model_module": "@jupyter-widgets/controls",
            "children": [
              "IPY_MODEL_cc69910bff4c4d4d87b25515b5597e1d",
              "IPY_MODEL_21945b23104b43149324c18f3122f085"
            ]
          }
        },
        "9004b17047144c67876c1239459c10f0": {
          "model_module": "@jupyter-widgets/base",
          "model_name": "LayoutModel",
          "state": {
            "_view_name": "LayoutView",
            "grid_template_rows": null,
            "right": null,
            "justify_content": null,
            "_view_module": "@jupyter-widgets/base",
            "overflow": null,
            "_model_module_version": "1.2.0",
            "_view_count": null,
            "flex_flow": null,
            "width": null,
            "min_width": null,
            "border": null,
            "align_items": null,
            "bottom": null,
            "_model_module": "@jupyter-widgets/base",
            "top": null,
            "grid_column": null,
            "overflow_y": null,
            "overflow_x": null,
            "grid_auto_flow": null,
            "grid_area": null,
            "grid_template_columns": null,
            "flex": null,
            "_model_name": "LayoutModel",
            "justify_items": null,
            "grid_row": null,
            "max_height": null,
            "align_content": null,
            "visibility": null,
            "align_self": null,
            "height": null,
            "min_height": null,
            "padding": null,
            "grid_auto_rows": null,
            "grid_gap": null,
            "max_width": null,
            "order": null,
            "_view_module_version": "1.2.0",
            "grid_template_areas": null,
            "object_position": null,
            "object_fit": null,
            "grid_auto_columns": null,
            "margin": null,
            "display": null,
            "left": null
          }
        },
        "cc69910bff4c4d4d87b25515b5597e1d": {
          "model_module": "@jupyter-widgets/controls",
          "model_name": "FloatProgressModel",
          "state": {
            "_view_name": "ProgressView",
            "style": "IPY_MODEL_a54d6b0acfda412981b1914477a63801",
            "_dom_classes": [],
            "description": "Downloading: 100%",
            "_model_name": "FloatProgressModel",
            "bar_style": "success",
            "max": 231508,
            "_view_module": "@jupyter-widgets/controls",
            "_model_module_version": "1.5.0",
            "value": 231508,
            "_view_count": null,
            "_view_module_version": "1.5.0",
            "orientation": "horizontal",
            "min": 0,
            "description_tooltip": null,
            "_model_module": "@jupyter-widgets/controls",
            "layout": "IPY_MODEL_6919230c5b704b63bd5c5cebcbc95d1e"
          }
        },
        "21945b23104b43149324c18f3122f085": {
          "model_module": "@jupyter-widgets/controls",
          "model_name": "HTMLModel",
          "state": {
            "_view_name": "HTMLView",
            "style": "IPY_MODEL_961ba1588a6b46cb8fff9ba670edd5b6",
            "_dom_classes": [],
            "description": "",
            "_model_name": "HTMLModel",
            "placeholder": "​",
            "_view_module": "@jupyter-widgets/controls",
            "_model_module_version": "1.5.0",
            "value": " 232k/232k [00:00&lt;00:00, 964kB/s]",
            "_view_count": null,
            "_view_module_version": "1.5.0",
            "description_tooltip": null,
            "_model_module": "@jupyter-widgets/controls",
            "layout": "IPY_MODEL_093e9a19f71a48ac965e20f640319d66"
          }
        },
        "a54d6b0acfda412981b1914477a63801": {
          "model_module": "@jupyter-widgets/controls",
          "model_name": "ProgressStyleModel",
          "state": {
            "_view_name": "StyleView",
            "_model_name": "ProgressStyleModel",
            "description_width": "initial",
            "_view_module": "@jupyter-widgets/base",
            "_model_module_version": "1.5.0",
            "_view_count": null,
            "_view_module_version": "1.2.0",
            "bar_color": null,
            "_model_module": "@jupyter-widgets/controls"
          }
        },
        "6919230c5b704b63bd5c5cebcbc95d1e": {
          "model_module": "@jupyter-widgets/base",
          "model_name": "LayoutModel",
          "state": {
            "_view_name": "LayoutView",
            "grid_template_rows": null,
            "right": null,
            "justify_content": null,
            "_view_module": "@jupyter-widgets/base",
            "overflow": null,
            "_model_module_version": "1.2.0",
            "_view_count": null,
            "flex_flow": null,
            "width": null,
            "min_width": null,
            "border": null,
            "align_items": null,
            "bottom": null,
            "_model_module": "@jupyter-widgets/base",
            "top": null,
            "grid_column": null,
            "overflow_y": null,
            "overflow_x": null,
            "grid_auto_flow": null,
            "grid_area": null,
            "grid_template_columns": null,
            "flex": null,
            "_model_name": "LayoutModel",
            "justify_items": null,
            "grid_row": null,
            "max_height": null,
            "align_content": null,
            "visibility": null,
            "align_self": null,
            "height": null,
            "min_height": null,
            "padding": null,
            "grid_auto_rows": null,
            "grid_gap": null,
            "max_width": null,
            "order": null,
            "_view_module_version": "1.2.0",
            "grid_template_areas": null,
            "object_position": null,
            "object_fit": null,
            "grid_auto_columns": null,
            "margin": null,
            "display": null,
            "left": null
          }
        },
        "961ba1588a6b46cb8fff9ba670edd5b6": {
          "model_module": "@jupyter-widgets/controls",
          "model_name": "DescriptionStyleModel",
          "state": {
            "_view_name": "StyleView",
            "_model_name": "DescriptionStyleModel",
            "description_width": "",
            "_view_module": "@jupyter-widgets/base",
            "_model_module_version": "1.5.0",
            "_view_count": null,
            "_view_module_version": "1.2.0",
            "_model_module": "@jupyter-widgets/controls"
          }
        },
        "093e9a19f71a48ac965e20f640319d66": {
          "model_module": "@jupyter-widgets/base",
          "model_name": "LayoutModel",
          "state": {
            "_view_name": "LayoutView",
            "grid_template_rows": null,
            "right": null,
            "justify_content": null,
            "_view_module": "@jupyter-widgets/base",
            "overflow": null,
            "_model_module_version": "1.2.0",
            "_view_count": null,
            "flex_flow": null,
            "width": null,
            "min_width": null,
            "border": null,
            "align_items": null,
            "bottom": null,
            "_model_module": "@jupyter-widgets/base",
            "top": null,
            "grid_column": null,
            "overflow_y": null,
            "overflow_x": null,
            "grid_auto_flow": null,
            "grid_area": null,
            "grid_template_columns": null,
            "flex": null,
            "_model_name": "LayoutModel",
            "justify_items": null,
            "grid_row": null,
            "max_height": null,
            "align_content": null,
            "visibility": null,
            "align_self": null,
            "height": null,
            "min_height": null,
            "padding": null,
            "grid_auto_rows": null,
            "grid_gap": null,
            "max_width": null,
            "order": null,
            "_view_module_version": "1.2.0",
            "grid_template_areas": null,
            "object_position": null,
            "object_fit": null,
            "grid_auto_columns": null,
            "margin": null,
            "display": null,
            "left": null
          }
        },
        "8caa47775f1741718453daa82c8cff0a": {
          "model_module": "@jupyter-widgets/controls",
          "model_name": "HBoxModel",
          "state": {
            "_view_name": "HBoxView",
            "_dom_classes": [],
            "_model_name": "HBoxModel",
            "_view_module": "@jupyter-widgets/controls",
            "_model_module_version": "1.5.0",
            "_view_count": null,
            "_view_module_version": "1.5.0",
            "box_style": "",
            "layout": "IPY_MODEL_6438405f60034e6b84d8ecb33d6d7c80",
            "_model_module": "@jupyter-widgets/controls",
            "children": [
              "IPY_MODEL_6ed7f827dcf34040876dddf2b7b25fa9",
              "IPY_MODEL_06d74addc7574098b6a4fb866f9f7e5e"
            ]
          }
        },
        "6438405f60034e6b84d8ecb33d6d7c80": {
          "model_module": "@jupyter-widgets/base",
          "model_name": "LayoutModel",
          "state": {
            "_view_name": "LayoutView",
            "grid_template_rows": null,
            "right": null,
            "justify_content": null,
            "_view_module": "@jupyter-widgets/base",
            "overflow": null,
            "_model_module_version": "1.2.0",
            "_view_count": null,
            "flex_flow": null,
            "width": null,
            "min_width": null,
            "border": null,
            "align_items": null,
            "bottom": null,
            "_model_module": "@jupyter-widgets/base",
            "top": null,
            "grid_column": null,
            "overflow_y": null,
            "overflow_x": null,
            "grid_auto_flow": null,
            "grid_area": null,
            "grid_template_columns": null,
            "flex": null,
            "_model_name": "LayoutModel",
            "justify_items": null,
            "grid_row": null,
            "max_height": null,
            "align_content": null,
            "visibility": null,
            "align_self": null,
            "height": null,
            "min_height": null,
            "padding": null,
            "grid_auto_rows": null,
            "grid_gap": null,
            "max_width": null,
            "order": null,
            "_view_module_version": "1.2.0",
            "grid_template_areas": null,
            "object_position": null,
            "object_fit": null,
            "grid_auto_columns": null,
            "margin": null,
            "display": null,
            "left": null
          }
        },
        "6ed7f827dcf34040876dddf2b7b25fa9": {
          "model_module": "@jupyter-widgets/controls",
          "model_name": "FloatProgressModel",
          "state": {
            "_view_name": "ProgressView",
            "style": "IPY_MODEL_a68b7a565e7c455d999ceb41a69e3622",
            "_dom_classes": [],
            "description": "Downloading: 100%",
            "_model_name": "FloatProgressModel",
            "bar_style": "success",
            "max": 433,
            "_view_module": "@jupyter-widgets/controls",
            "_model_module_version": "1.5.0",
            "value": 433,
            "_view_count": null,
            "_view_module_version": "1.5.0",
            "orientation": "horizontal",
            "min": 0,
            "description_tooltip": null,
            "_model_module": "@jupyter-widgets/controls",
            "layout": "IPY_MODEL_2d859e1ec3b54cb698e9115d8f92e8f6"
          }
        },
        "06d74addc7574098b6a4fb866f9f7e5e": {
          "model_module": "@jupyter-widgets/controls",
          "model_name": "HTMLModel",
          "state": {
            "_view_name": "HTMLView",
            "style": "IPY_MODEL_480e2fcfb4e341bdaa959dc81893db72",
            "_dom_classes": [],
            "description": "",
            "_model_name": "HTMLModel",
            "placeholder": "​",
            "_view_module": "@jupyter-widgets/controls",
            "_model_module_version": "1.5.0",
            "value": " 433/433 [00:00&lt;00:00, 1.53kB/s]",
            "_view_count": null,
            "_view_module_version": "1.5.0",
            "description_tooltip": null,
            "_model_module": "@jupyter-widgets/controls",
            "layout": "IPY_MODEL_979303a86b54460892d34229d6f18931"
          }
        },
        "a68b7a565e7c455d999ceb41a69e3622": {
          "model_module": "@jupyter-widgets/controls",
          "model_name": "ProgressStyleModel",
          "state": {
            "_view_name": "StyleView",
            "_model_name": "ProgressStyleModel",
            "description_width": "initial",
            "_view_module": "@jupyter-widgets/base",
            "_model_module_version": "1.5.0",
            "_view_count": null,
            "_view_module_version": "1.2.0",
            "bar_color": null,
            "_model_module": "@jupyter-widgets/controls"
          }
        },
        "2d859e1ec3b54cb698e9115d8f92e8f6": {
          "model_module": "@jupyter-widgets/base",
          "model_name": "LayoutModel",
          "state": {
            "_view_name": "LayoutView",
            "grid_template_rows": null,
            "right": null,
            "justify_content": null,
            "_view_module": "@jupyter-widgets/base",
            "overflow": null,
            "_model_module_version": "1.2.0",
            "_view_count": null,
            "flex_flow": null,
            "width": null,
            "min_width": null,
            "border": null,
            "align_items": null,
            "bottom": null,
            "_model_module": "@jupyter-widgets/base",
            "top": null,
            "grid_column": null,
            "overflow_y": null,
            "overflow_x": null,
            "grid_auto_flow": null,
            "grid_area": null,
            "grid_template_columns": null,
            "flex": null,
            "_model_name": "LayoutModel",
            "justify_items": null,
            "grid_row": null,
            "max_height": null,
            "align_content": null,
            "visibility": null,
            "align_self": null,
            "height": null,
            "min_height": null,
            "padding": null,
            "grid_auto_rows": null,
            "grid_gap": null,
            "max_width": null,
            "order": null,
            "_view_module_version": "1.2.0",
            "grid_template_areas": null,
            "object_position": null,
            "object_fit": null,
            "grid_auto_columns": null,
            "margin": null,
            "display": null,
            "left": null
          }
        },
        "480e2fcfb4e341bdaa959dc81893db72": {
          "model_module": "@jupyter-widgets/controls",
          "model_name": "DescriptionStyleModel",
          "state": {
            "_view_name": "StyleView",
            "_model_name": "DescriptionStyleModel",
            "description_width": "",
            "_view_module": "@jupyter-widgets/base",
            "_model_module_version": "1.5.0",
            "_view_count": null,
            "_view_module_version": "1.2.0",
            "_model_module": "@jupyter-widgets/controls"
          }
        },
        "979303a86b54460892d34229d6f18931": {
          "model_module": "@jupyter-widgets/base",
          "model_name": "LayoutModel",
          "state": {
            "_view_name": "LayoutView",
            "grid_template_rows": null,
            "right": null,
            "justify_content": null,
            "_view_module": "@jupyter-widgets/base",
            "overflow": null,
            "_model_module_version": "1.2.0",
            "_view_count": null,
            "flex_flow": null,
            "width": null,
            "min_width": null,
            "border": null,
            "align_items": null,
            "bottom": null,
            "_model_module": "@jupyter-widgets/base",
            "top": null,
            "grid_column": null,
            "overflow_y": null,
            "overflow_x": null,
            "grid_auto_flow": null,
            "grid_area": null,
            "grid_template_columns": null,
            "flex": null,
            "_model_name": "LayoutModel",
            "justify_items": null,
            "grid_row": null,
            "max_height": null,
            "align_content": null,
            "visibility": null,
            "align_self": null,
            "height": null,
            "min_height": null,
            "padding": null,
            "grid_auto_rows": null,
            "grid_gap": null,
            "max_width": null,
            "order": null,
            "_view_module_version": "1.2.0",
            "grid_template_areas": null,
            "object_position": null,
            "object_fit": null,
            "grid_auto_columns": null,
            "margin": null,
            "display": null,
            "left": null
          }
        },
        "503c293945e14cbc95a7638bd5d1c9f3": {
          "model_module": "@jupyter-widgets/controls",
          "model_name": "HBoxModel",
          "state": {
            "_view_name": "HBoxView",
            "_dom_classes": [],
            "_model_name": "HBoxModel",
            "_view_module": "@jupyter-widgets/controls",
            "_model_module_version": "1.5.0",
            "_view_count": null,
            "_view_module_version": "1.5.0",
            "box_style": "",
            "layout": "IPY_MODEL_09c422bc08cf4f50b62e1b0a0c9b7277",
            "_model_module": "@jupyter-widgets/controls",
            "children": [
              "IPY_MODEL_64d2107503cb4b96bdb376949fa8b4b2",
              "IPY_MODEL_c984f111c9044ce7a1b1aa459fe92bb5"
            ]
          }
        },
        "09c422bc08cf4f50b62e1b0a0c9b7277": {
          "model_module": "@jupyter-widgets/base",
          "model_name": "LayoutModel",
          "state": {
            "_view_name": "LayoutView",
            "grid_template_rows": null,
            "right": null,
            "justify_content": null,
            "_view_module": "@jupyter-widgets/base",
            "overflow": null,
            "_model_module_version": "1.2.0",
            "_view_count": null,
            "flex_flow": null,
            "width": null,
            "min_width": null,
            "border": null,
            "align_items": null,
            "bottom": null,
            "_model_module": "@jupyter-widgets/base",
            "top": null,
            "grid_column": null,
            "overflow_y": null,
            "overflow_x": null,
            "grid_auto_flow": null,
            "grid_area": null,
            "grid_template_columns": null,
            "flex": null,
            "_model_name": "LayoutModel",
            "justify_items": null,
            "grid_row": null,
            "max_height": null,
            "align_content": null,
            "visibility": null,
            "align_self": null,
            "height": null,
            "min_height": null,
            "padding": null,
            "grid_auto_rows": null,
            "grid_gap": null,
            "max_width": null,
            "order": null,
            "_view_module_version": "1.2.0",
            "grid_template_areas": null,
            "object_position": null,
            "object_fit": null,
            "grid_auto_columns": null,
            "margin": null,
            "display": null,
            "left": null
          }
        },
        "64d2107503cb4b96bdb376949fa8b4b2": {
          "model_module": "@jupyter-widgets/controls",
          "model_name": "FloatProgressModel",
          "state": {
            "_view_name": "ProgressView",
            "style": "IPY_MODEL_b09077c3e96d4195aff4b64eb77aac38",
            "_dom_classes": [],
            "description": "Downloading: 100%",
            "_model_name": "FloatProgressModel",
            "bar_style": "success",
            "max": 440473133,
            "_view_module": "@jupyter-widgets/controls",
            "_model_module_version": "1.5.0",
            "value": 440473133,
            "_view_count": null,
            "_view_module_version": "1.5.0",
            "orientation": "horizontal",
            "min": 0,
            "description_tooltip": null,
            "_model_module": "@jupyter-widgets/controls",
            "layout": "IPY_MODEL_03e9d5ff6ed14e2286d8522e3b031e55"
          }
        },
        "c984f111c9044ce7a1b1aa459fe92bb5": {
          "model_module": "@jupyter-widgets/controls",
          "model_name": "HTMLModel",
          "state": {
            "_view_name": "HTMLView",
            "style": "IPY_MODEL_0c5bd2ff0c67467da7c4c1d23acd7931",
            "_dom_classes": [],
            "description": "",
            "_model_name": "HTMLModel",
            "placeholder": "​",
            "_view_module": "@jupyter-widgets/controls",
            "_model_module_version": "1.5.0",
            "value": " 440M/440M [09:48&lt;00:00, 749kB/s]",
            "_view_count": null,
            "_view_module_version": "1.5.0",
            "description_tooltip": null,
            "_model_module": "@jupyter-widgets/controls",
            "layout": "IPY_MODEL_2476abbbbd294ed9acb6053c0ca33d7b"
          }
        },
        "b09077c3e96d4195aff4b64eb77aac38": {
          "model_module": "@jupyter-widgets/controls",
          "model_name": "ProgressStyleModel",
          "state": {
            "_view_name": "StyleView",
            "_model_name": "ProgressStyleModel",
            "description_width": "initial",
            "_view_module": "@jupyter-widgets/base",
            "_model_module_version": "1.5.0",
            "_view_count": null,
            "_view_module_version": "1.2.0",
            "bar_color": null,
            "_model_module": "@jupyter-widgets/controls"
          }
        },
        "03e9d5ff6ed14e2286d8522e3b031e55": {
          "model_module": "@jupyter-widgets/base",
          "model_name": "LayoutModel",
          "state": {
            "_view_name": "LayoutView",
            "grid_template_rows": null,
            "right": null,
            "justify_content": null,
            "_view_module": "@jupyter-widgets/base",
            "overflow": null,
            "_model_module_version": "1.2.0",
            "_view_count": null,
            "flex_flow": null,
            "width": null,
            "min_width": null,
            "border": null,
            "align_items": null,
            "bottom": null,
            "_model_module": "@jupyter-widgets/base",
            "top": null,
            "grid_column": null,
            "overflow_y": null,
            "overflow_x": null,
            "grid_auto_flow": null,
            "grid_area": null,
            "grid_template_columns": null,
            "flex": null,
            "_model_name": "LayoutModel",
            "justify_items": null,
            "grid_row": null,
            "max_height": null,
            "align_content": null,
            "visibility": null,
            "align_self": null,
            "height": null,
            "min_height": null,
            "padding": null,
            "grid_auto_rows": null,
            "grid_gap": null,
            "max_width": null,
            "order": null,
            "_view_module_version": "1.2.0",
            "grid_template_areas": null,
            "object_position": null,
            "object_fit": null,
            "grid_auto_columns": null,
            "margin": null,
            "display": null,
            "left": null
          }
        },
        "0c5bd2ff0c67467da7c4c1d23acd7931": {
          "model_module": "@jupyter-widgets/controls",
          "model_name": "DescriptionStyleModel",
          "state": {
            "_view_name": "StyleView",
            "_model_name": "DescriptionStyleModel",
            "description_width": "",
            "_view_module": "@jupyter-widgets/base",
            "_model_module_version": "1.5.0",
            "_view_count": null,
            "_view_module_version": "1.2.0",
            "_model_module": "@jupyter-widgets/controls"
          }
        },
        "2476abbbbd294ed9acb6053c0ca33d7b": {
          "model_module": "@jupyter-widgets/base",
          "model_name": "LayoutModel",
          "state": {
            "_view_name": "LayoutView",
            "grid_template_rows": null,
            "right": null,
            "justify_content": null,
            "_view_module": "@jupyter-widgets/base",
            "overflow": null,
            "_model_module_version": "1.2.0",
            "_view_count": null,
            "flex_flow": null,
            "width": null,
            "min_width": null,
            "border": null,
            "align_items": null,
            "bottom": null,
            "_model_module": "@jupyter-widgets/base",
            "top": null,
            "grid_column": null,
            "overflow_y": null,
            "overflow_x": null,
            "grid_auto_flow": null,
            "grid_area": null,
            "grid_template_columns": null,
            "flex": null,
            "_model_name": "LayoutModel",
            "justify_items": null,
            "grid_row": null,
            "max_height": null,
            "align_content": null,
            "visibility": null,
            "align_self": null,
            "height": null,
            "min_height": null,
            "padding": null,
            "grid_auto_rows": null,
            "grid_gap": null,
            "max_width": null,
            "order": null,
            "_view_module_version": "1.2.0",
            "grid_template_areas": null,
            "object_position": null,
            "object_fit": null,
            "grid_auto_columns": null,
            "margin": null,
            "display": null,
            "left": null
          }
        }
      }
    }
  },
  "cells": [
    {
      "cell_type": "markdown",
      "metadata": {
        "id": "EKOTlwcmxmej",
        "colab_type": "text"
      },
      "source": [
        "# BERT Fine-Tuning Tutorial with PyTorch\n",
        "\n",
        "By Prajwal Bhandary"
      ]
    },
    {
      "cell_type": "markdown",
      "metadata": {
        "id": "BJR6t_gCQe_x",
        "colab_type": "text"
      },
      "source": [
        "In this tutorial I'll show you how to use BERT with the huggingface PyTorch library to quickly and efficiently fine-tune a model to get near state of the art performance in sentence classification. More broadly, I describe the practical application of transfer learning in NLP to create high performance models with minimal effort on a range of NLP tasks.\n",
        "\n",
        "\n"
      ]
    },
    {
      "cell_type": "markdown",
      "metadata": {
        "id": "jrC9__lXxTJz",
        "colab_type": "text"
      },
      "source": [
        "# Contents"
      ]
    },
    {
      "cell_type": "markdown",
      "metadata": {
        "id": "p9MCBOq4xUpr",
        "colab_type": "text"
      },
      "source": [
        "See \"Table of contents\" in the sidebar to the left."
      ]
    },
    {
      "cell_type": "markdown",
      "metadata": {
        "id": "ADkUGTqixRWo",
        "colab_type": "text"
      },
      "source": [
        "# Introduction"
      ]
    },
    {
      "cell_type": "markdown",
      "metadata": {
        "id": "L9vxxTBsuL24",
        "colab_type": "text"
      },
      "source": [
        "\n",
        "## History\n",
        "\n",
        "2018 was a breakthrough year in NLP. Transfer learning, particularly models like Allen AI's ELMO, OpenAI's Open-GPT, and Google's BERT allowed researchers to smash multiple benchmarks with minimal task-specific fine-tuning and provided the rest of the NLP community with pretrained models that could easily (with less data and less compute time) be fine-tuned and implemented to produce state of the art results. Unfortunately, for many starting out in NLP and even for some experienced practicioners, the theory and practical application of these powerful models is still not well understood.\n"
      ]
    },
    {
      "cell_type": "markdown",
      "metadata": {
        "id": "qCgvR9INuP5q",
        "colab_type": "text"
      },
      "source": [
        "\n",
        "## What is BERT?\n",
        "\n",
        "BERT (Bidirectional Encoder Representations from Transformers), released in late 2018, is the model we will use in this tutorial to provide readers with a better understanding of and practical guidance for using transfer learning models in NLP. BERT is a method of pretraining language representations that was used to create models that NLP practicioners can then download and use for free. You can either use these models to extract high quality language features from your text data, or you can fine-tune these models on a specific task (classification, entity recognition, question answering, etc.) with your own data to produce state of the art predictions.\n",
        "\n",
        "This post will explain how you can modify and fine-tune BERT to create a powerful NLP model that quickly gives you state of the art results. \n"
      ]
    },
    {
      "cell_type": "markdown",
      "metadata": {
        "id": "DaVGdtOkuXUZ",
        "colab_type": "text"
      },
      "source": [
        "\n",
        "## Advantages of Fine-Tuning\n"
      ]
    },
    {
      "cell_type": "markdown",
      "metadata": {
        "id": "5llwu8GBuqMb",
        "colab_type": "text"
      },
      "source": [
        "\n",
        "In this tutorial, we will use BERT to train a text classifier. Specifically, we will take the pre-trained BERT model, add an untrained layer of neurons on the end, and train the new model for our classification task. Why do this rather than train a train a specific deep learning model (a CNN, BiLSTM, etc.) that is well suited for the specific NLP task you need? \n",
        "\n",
        "1. **Quicker Development**\n",
        "\n",
        "    * First, the pre-trained BERT model weights already encode a lot of information about our language. As a result, it takes much less time to train our fine-tuned model - it is as if we have already trained the bottom layers of our network extensively and only need to gently tune them while using their output as features for our classification task. In fact, the authors recommend only 2-4 epochs of training for fine-tuning BERT on a specific NLP task (compared to the hundreds of GPU hours needed to train the original BERT model or a LSTM from scratch!). \n",
        "\n",
        "2. **Less Data**\n",
        "\n",
        "    * In addition and perhaps just as important, because of the pre-trained weights this method allows us to fine-tune our task on a much smaller dataset than would be required in a model that is built from scratch. A major drawback of NLP models built from scratch is that we often need a prohibitively large dataset in order to train our network to reasonable accuracy, meaning a lot of time and energy had to be put into dataset creation. By fine-tuning BERT, we are now able to get away with training a model to good performance on a much smaller amount of training data.\n",
        "\n",
        "3. **Better Results**\n",
        "\n",
        "    * Finally, this simple fine-tuning procedure (typically adding one fully-connected layer on top of BERT and training for a few epochs) was shown to achieve state of the art results with minimal task-specific adjustments for a wide variety of tasks: classification, language inference, semantic similarity, question answering, etc. Rather than implementing custom and sometimes-obscure architetures shown to work well on a specific task, simply fine-tuning BERT is shown to be a better (or at least equal) alternative.\n"
      ]
    },
    {
      "cell_type": "markdown",
      "metadata": {
        "id": "RX_ZDhicpHkV",
        "colab_type": "text"
      },
      "source": [
        "# 1. Setup"
      ]
    },
    {
      "cell_type": "markdown",
      "metadata": {
        "id": "nSU7yERLP_66",
        "colab_type": "text"
      },
      "source": [
        "## 1.1. Using Colab GPU for Training\n"
      ]
    },
    {
      "cell_type": "markdown",
      "metadata": {
        "id": "GI0iOY8zvZzL",
        "colab_type": "text"
      },
      "source": [
        "\n",
        "Google Colab offers free GPUs and TPUs! Since we'll be training a large neural network it's best to take advantage of this (in this case we'll attach a GPU), otherwise training will take a very long time.\n",
        "\n",
        "A GPU can be added by going to the menu and selecting:\n",
        "\n",
        "`Edit 🡒 Notebook Settings 🡒 Hardware accelerator 🡒 (GPU)`\n",
        "\n",
        "Then run the following cell to confirm that the GPU is detected."
      ]
    },
    {
      "cell_type": "code",
      "metadata": {
        "id": "DEfSbAA4QHas",
        "colab_type": "code",
        "colab": {
          "base_uri": "https://localhost:8080/",
          "height": 34
        },
        "outputId": "06d60c8b-7b9b-4ae7-bd1e-a3cf18764874"
      },
      "source": [
        "import tensorflow as tf\n",
        "\n",
        "# Get the GPU device name.\n",
        "device_name = tf.test.gpu_device_name()\n",
        "\n",
        "# The device name should look like the following:\n",
        "if device_name == '/device:GPU:0':\n",
        "    print('Found GPU at: {}'.format(device_name))\n",
        "else:\n",
        "    raise SystemError('GPU device not found')"
      ],
      "execution_count": 1,
      "outputs": [
        {
          "output_type": "stream",
          "text": [
            "Found GPU at: /device:GPU:0\n"
          ],
          "name": "stdout"
        }
      ]
    },
    {
      "cell_type": "markdown",
      "metadata": {
        "id": "cqG7FzRVFEIv",
        "colab_type": "text"
      },
      "source": [
        "In order for torch to use the GPU, we need to identify and specify the GPU as the device. Later, in our training loop, we will load data onto the device. "
      ]
    },
    {
      "cell_type": "code",
      "metadata": {
        "id": "oYsV4H8fCpZ-",
        "colab_type": "code",
        "colab": {
          "base_uri": "https://localhost:8080/",
          "height": 51
        },
        "outputId": "b8394404-061d-4a98-8b85-6bf2c137226d"
      },
      "source": [
        "import torch\n",
        "\n",
        "# If there's a GPU available...\n",
        "if torch.cuda.is_available():    \n",
        "\n",
        "    # Tell PyTorch to use the GPU.    \n",
        "    device = torch.device(\"cuda\")\n",
        "\n",
        "    print('There are %d GPU(s) available.' % torch.cuda.device_count())\n",
        "\n",
        "    print('We will use the GPU:', torch.cuda.get_device_name(0))\n",
        "\n",
        "# If not...\n",
        "else:\n",
        "    print('No GPU available, using the CPU instead.')\n",
        "    device = torch.device(\"cpu\")"
      ],
      "execution_count": 2,
      "outputs": [
        {
          "output_type": "stream",
          "text": [
            "There are 1 GPU(s) available.\n",
            "We will use the GPU: Tesla K80\n"
          ],
          "name": "stdout"
        }
      ]
    },
    {
      "cell_type": "markdown",
      "metadata": {
        "id": "2ElsnSNUridI",
        "colab_type": "text"
      },
      "source": [
        "## 1.2. Installing the Hugging Face Library\n"
      ]
    },
    {
      "cell_type": "markdown",
      "metadata": {
        "id": "G_N2UDLevYWn",
        "colab_type": "text"
      },
      "source": [
        "\n",
        "Next, let's install the [transformers](https://github.com/huggingface/transformers) package from Hugging Face which will give us a pytorch interface for working with BERT. (This library contains interfaces for other pretrained language models like OpenAI's GPT and GPT-2.) We've selected the pytorch interface because it strikes a nice balance between the high-level APIs (which are easy to use but don't provide insight into how things work) and tensorflow code (which contains lots of details but often sidetracks us into lessons about tensorflow, when the purpose here is BERT!).\n",
        "\n",
        "At the moment, the Hugging Face library seems to be the most widely accepted and powerful pytorch interface for working with BERT. In addition to supporting a variety of different pre-trained transformer models, the library also includes pre-built modifications of these models suited to your specific task. For example, in this tutorial we will use `BertForSequenceClassification`.\n",
        "\n",
        "The library also includes task-specific classes for token classification, question answering, next sentence prediciton, etc. Using these pre-built classes simplifies the process of modifying BERT for your purposes.\n"
      ]
    },
    {
      "cell_type": "code",
      "metadata": {
        "id": "0NmMdkZO8R6q",
        "colab_type": "code",
        "colab": {
          "base_uri": "https://localhost:8080/",
          "height": 615
        },
        "outputId": "1a88e462-17a0-42ef-e914-2739d978d969"
      },
      "source": [
        "#!pip install transformers"
      ],
      "execution_count": 4,
      "outputs": [
        {
          "output_type": "stream",
          "text": [
            "Collecting transformers\n",
            "\u001b[?25l  Downloading https://files.pythonhosted.org/packages/27/3c/91ed8f5c4e7ef3227b4119200fc0ed4b4fd965b1f0172021c25701087825/transformers-3.0.2-py3-none-any.whl (769kB)\n",
            "\u001b[K     |████████████████████████████████| 778kB 3.5MB/s \n",
            "\u001b[?25hCollecting sacremoses\n",
            "\u001b[?25l  Downloading https://files.pythonhosted.org/packages/7d/34/09d19aff26edcc8eb2a01bed8e98f13a1537005d31e95233fd48216eed10/sacremoses-0.0.43.tar.gz (883kB)\n",
            "\u001b[K     |████████████████████████████████| 890kB 15.7MB/s \n",
            "\u001b[?25hCollecting sentencepiece!=0.1.92\n",
            "\u001b[?25l  Downloading https://files.pythonhosted.org/packages/d4/a4/d0a884c4300004a78cca907a6ff9a5e9fe4f090f5d95ab341c53d28cbc58/sentencepiece-0.1.91-cp36-cp36m-manylinux1_x86_64.whl (1.1MB)\n",
            "\u001b[K     |████████████████████████████████| 1.1MB 26.3MB/s \n",
            "\u001b[?25hRequirement already satisfied: packaging in /usr/local/lib/python3.6/dist-packages (from transformers) (20.4)\n",
            "Requirement already satisfied: regex!=2019.12.17 in /usr/local/lib/python3.6/dist-packages (from transformers) (2019.12.20)\n",
            "Requirement already satisfied: numpy in /usr/local/lib/python3.6/dist-packages (from transformers) (1.18.5)\n",
            "Requirement already satisfied: dataclasses; python_version < \"3.7\" in /usr/local/lib/python3.6/dist-packages (from transformers) (0.7)\n",
            "Requirement already satisfied: tqdm>=4.27 in /usr/local/lib/python3.6/dist-packages (from transformers) (4.41.1)\n",
            "Collecting tokenizers==0.8.1.rc1\n",
            "\u001b[?25l  Downloading https://files.pythonhosted.org/packages/40/d0/30d5f8d221a0ed981a186c8eb986ce1c94e3a6e87f994eae9f4aa5250217/tokenizers-0.8.1rc1-cp36-cp36m-manylinux1_x86_64.whl (3.0MB)\n",
            "\u001b[K     |████████████████████████████████| 3.0MB 32.3MB/s \n",
            "\u001b[?25hRequirement already satisfied: requests in /usr/local/lib/python3.6/dist-packages (from transformers) (2.23.0)\n",
            "Requirement already satisfied: filelock in /usr/local/lib/python3.6/dist-packages (from transformers) (3.0.12)\n",
            "Requirement already satisfied: six in /usr/local/lib/python3.6/dist-packages (from sacremoses->transformers) (1.15.0)\n",
            "Requirement already satisfied: click in /usr/local/lib/python3.6/dist-packages (from sacremoses->transformers) (7.1.2)\n",
            "Requirement already satisfied: joblib in /usr/local/lib/python3.6/dist-packages (from sacremoses->transformers) (0.16.0)\n",
            "Requirement already satisfied: pyparsing>=2.0.2 in /usr/local/lib/python3.6/dist-packages (from packaging->transformers) (2.4.7)\n",
            "Requirement already satisfied: urllib3!=1.25.0,!=1.25.1,<1.26,>=1.21.1 in /usr/local/lib/python3.6/dist-packages (from requests->transformers) (1.24.3)\n",
            "Requirement already satisfied: certifi>=2017.4.17 in /usr/local/lib/python3.6/dist-packages (from requests->transformers) (2020.6.20)\n",
            "Requirement already satisfied: idna<3,>=2.5 in /usr/local/lib/python3.6/dist-packages (from requests->transformers) (2.10)\n",
            "Requirement already satisfied: chardet<4,>=3.0.2 in /usr/local/lib/python3.6/dist-packages (from requests->transformers) (3.0.4)\n",
            "Building wheels for collected packages: sacremoses\n",
            "  Building wheel for sacremoses (setup.py) ... \u001b[?25l\u001b[?25hdone\n",
            "  Created wheel for sacremoses: filename=sacremoses-0.0.43-cp36-none-any.whl size=893260 sha256=56a8f703963219bbbb50d8dda2dccc5bebb7f65a16defcec25588eb386ea3e31\n",
            "  Stored in directory: /root/.cache/pip/wheels/29/3c/fd/7ce5c3f0666dab31a50123635e6fb5e19ceb42ce38d4e58f45\n",
            "Successfully built sacremoses\n",
            "Installing collected packages: sacremoses, sentencepiece, tokenizers, transformers\n",
            "Successfully installed sacremoses-0.0.43 sentencepiece-0.1.91 tokenizers-0.8.1rc1 transformers-3.0.2\n"
          ],
          "name": "stdout"
        }
      ]
    },
    {
      "cell_type": "markdown",
      "metadata": {
        "id": "lxddqmruamSj",
        "colab_type": "text"
      },
      "source": [
        "The code in this notebook is actually a simplified version of the [run_glue.py](https://github.com/huggingface/transformers/blob/master/examples/run_glue.py) example script from huggingface.\n",
        "\n",
        "`run_glue.py` is a helpful utility which allows you to pick which GLUE benchmark task you want to run on, and which pre-trained model you want to use (you can see the list of possible models [here](https://github.com/huggingface/transformers/blob/e6cff60b4cbc1158fbd6e4a1c3afda8dc224f566/examples/run_glue.py#L69)). It also supports using either the CPU, a single GPU, or multiple GPUs. It even supports using 16-bit precision if you want further speed up.\n",
        "\n",
        "Unfortunately, all of this configurability comes at the cost of *readability*. In this Notebook, we've simplified the code greatly and added plenty of comments to make it clear what's going on. "
      ]
    },
    {
      "cell_type": "markdown",
      "metadata": {
        "id": "guw6ZNtaswKc",
        "colab_type": "text"
      },
      "source": [
        "# 2. Loading CoLA Dataset\n"
      ]
    },
    {
      "cell_type": "markdown",
      "metadata": {
        "id": "_9ZKxKc04Btk",
        "colab_type": "text"
      },
      "source": [
        "We'll use [The Corpus of Linguistic Acceptability (CoLA)](https://nyu-mll.github.io/CoLA/) dataset for single sentence classification. It's a set of sentences labeled as grammatically correct or incorrect. It was first published in May of 2018, and is one of the tests included in the \"GLUE Benchmark\" on which models like BERT are competing.\n"
      ]
    },
    {
      "cell_type": "markdown",
      "metadata": {
        "id": "4JrUHXms16cn",
        "colab_type": "text"
      },
      "source": [
        "## 2.1. Download & Extract"
      ]
    },
    {
      "cell_type": "markdown",
      "metadata": {
        "id": "3ZNVW6xd0T0X",
        "colab_type": "text"
      },
      "source": [
        "We'll use the `wget` package to download the dataset to the Colab instance's file system. "
      ]
    },
    {
      "cell_type": "code",
      "metadata": {
        "id": "5m6AnuFv0QXQ",
        "colab_type": "code",
        "colab": {
          "base_uri": "https://localhost:8080/",
          "height": 170
        },
        "outputId": "1e3ea194-6356-4215-a797-35cf9c5f9769"
      },
      "source": [
        "#!pip install wget"
      ],
      "execution_count": 5,
      "outputs": [
        {
          "output_type": "stream",
          "text": [
            "Collecting wget\n",
            "  Downloading https://files.pythonhosted.org/packages/47/6a/62e288da7bcda82b935ff0c6cfe542970f04e29c756b0e147251b2fb251f/wget-3.2.zip\n",
            "Building wheels for collected packages: wget\n",
            "  Building wheel for wget (setup.py) ... \u001b[?25l\u001b[?25hdone\n",
            "  Created wheel for wget: filename=wget-3.2-cp36-none-any.whl size=9682 sha256=dad26222fb63da69ef75755c355e006e8f32cbcd33c5cd8aff3d44ea107fa3f7\n",
            "  Stored in directory: /root/.cache/pip/wheels/40/15/30/7d8f7cea2902b4db79e3fea550d7d7b85ecb27ef992b618f3f\n",
            "Successfully built wget\n",
            "Installing collected packages: wget\n",
            "Successfully installed wget-3.2\n"
          ],
          "name": "stdout"
        }
      ]
    },
    {
      "cell_type": "markdown",
      "metadata": {
        "id": "08pO03Ff1BjI",
        "colab_type": "text"
      },
      "source": [
        "The dataset is hosted on GitHub in this repo: https://nyu-mll.github.io/CoLA/"
      ]
    },
    {
      "cell_type": "code",
      "metadata": {
        "id": "pMtmPMkBzrvs",
        "colab_type": "code",
        "colab": {
          "base_uri": "https://localhost:8080/",
          "height": 34
        },
        "outputId": "e8286793-a2bc-47c1-df02-702a7e011a36"
      },
      "source": [
        "import wget\n",
        "import os\n",
        "\n",
        "print('Downloading dataset...')\n",
        "\n",
        "# The URL for the dataset zip file.\n",
        "url = 'https://nyu-mll.github.io/CoLA/cola_public_1.1.zip'\n",
        "\n",
        "# Download the file (if we haven't already)\n",
        "if not os.path.exists('./cola_public_1.1.zip'):\n",
        "    wget.download(url, './cola_public_1.1.zip')"
      ],
      "execution_count": 6,
      "outputs": [
        {
          "output_type": "stream",
          "text": [
            "Downloading dataset...\n"
          ],
          "name": "stdout"
        }
      ]
    },
    {
      "cell_type": "markdown",
      "metadata": {
        "id": "_mKctx-ll2FB",
        "colab_type": "text"
      },
      "source": [
        "Unzip the dataset to the file system. You can browse the file system of the Colab instance in the sidebar on the left."
      ]
    },
    {
      "cell_type": "code",
      "metadata": {
        "id": "0Yv-tNv20dnH",
        "colab_type": "code",
        "colab": {
          "base_uri": "https://localhost:8080/",
          "height": 204
        },
        "outputId": "103a6e91-4b13-449d-a595-4c288d97e262"
      },
      "source": [
        "# Unzip the dataset (if we haven't already)\n",
        "if not os.path.exists('./cola_public/'):\n",
        "    !unzip cola_public_1.1.zip"
      ],
      "execution_count": 7,
      "outputs": [
        {
          "output_type": "stream",
          "text": [
            "Archive:  cola_public_1.1.zip\n",
            "   creating: cola_public/\n",
            "  inflating: cola_public/README      \n",
            "   creating: cola_public/tokenized/\n",
            "  inflating: cola_public/tokenized/in_domain_dev.tsv  \n",
            "  inflating: cola_public/tokenized/in_domain_train.tsv  \n",
            "  inflating: cola_public/tokenized/out_of_domain_dev.tsv  \n",
            "   creating: cola_public/raw/\n",
            "  inflating: cola_public/raw/in_domain_dev.tsv  \n",
            "  inflating: cola_public/raw/in_domain_train.tsv  \n",
            "  inflating: cola_public/raw/out_of_domain_dev.tsv  \n"
          ],
          "name": "stdout"
        }
      ]
    },
    {
      "cell_type": "markdown",
      "metadata": {
        "id": "oQUy9Tat2EF_",
        "colab_type": "text"
      },
      "source": [
        "## 2.2. Parse"
      ]
    },
    {
      "cell_type": "markdown",
      "metadata": {
        "id": "xeyVCXT31EZQ",
        "colab_type": "text"
      },
      "source": [
        "We can see from the file names that both `tokenized` and `raw` versions of the data are available. \n",
        "\n",
        "We can't use the pre-tokenized version because, in order to apply the pre-trained BERT, we *must* use the tokenizer provided by the model. This is because (1) the model has a specific, fixed vocabulary and (2) the BERT tokenizer has a particular way of handling out-of-vocabulary words."
      ]
    },
    {
      "cell_type": "markdown",
      "metadata": {
        "id": "MYWzeGSY2xh3",
        "colab_type": "text"
      },
      "source": [
        "We'll use pandas to parse the \"in-domain\" training set and look at a few of its properties and data points."
      ]
    },
    {
      "cell_type": "code",
      "metadata": {
        "id": "_UkeC7SG2krJ",
        "colab_type": "code",
        "colab": {
          "base_uri": "https://localhost:8080/",
          "height": 393
        },
        "outputId": "71e35bf3-4513-48f5-b1a1-f119310e33ea"
      },
      "source": [
        "import pandas as pd\n",
        "\n",
        "# Load the dataset into a pandas dataframe.\n",
        "df = pd.read_csv(\"./cola_public/raw/in_domain_train.tsv\", delimiter='\\t', header=None, names=['sentence_source', 'label', 'label_notes', 'sentence'])\n",
        "\n",
        "# Report the number of sentences.\n",
        "print('Number of training sentences: {:,}\\n'.format(df.shape[0]))\n",
        "\n",
        "# Display 10 random rows from the data.\n",
        "df.sample(10)"
      ],
      "execution_count": 11,
      "outputs": [
        {
          "output_type": "stream",
          "text": [
            "Number of training sentences: 8,551\n",
            "\n"
          ],
          "name": "stdout"
        },
        {
          "output_type": "execute_result",
          "data": {
            "text/html": [
              "<div>\n",
              "<style scoped>\n",
              "    .dataframe tbody tr th:only-of-type {\n",
              "        vertical-align: middle;\n",
              "    }\n",
              "\n",
              "    .dataframe tbody tr th {\n",
              "        vertical-align: top;\n",
              "    }\n",
              "\n",
              "    .dataframe thead th {\n",
              "        text-align: right;\n",
              "    }\n",
              "</style>\n",
              "<table border=\"1\" class=\"dataframe\">\n",
              "  <thead>\n",
              "    <tr style=\"text-align: right;\">\n",
              "      <th></th>\n",
              "      <th>sentence_source</th>\n",
              "      <th>label</th>\n",
              "      <th>label_notes</th>\n",
              "      <th>sentence</th>\n",
              "    </tr>\n",
              "  </thead>\n",
              "  <tbody>\n",
              "    <tr>\n",
              "      <th>6385</th>\n",
              "      <td>d_98</td>\n",
              "      <td>1</td>\n",
              "      <td>NaN</td>\n",
              "      <td>John talked to absolutely any woman who came u...</td>\n",
              "    </tr>\n",
              "    <tr>\n",
              "      <th>4124</th>\n",
              "      <td>ks08</td>\n",
              "      <td>1</td>\n",
              "      <td>NaN</td>\n",
              "      <td>His friend learned dancing.</td>\n",
              "    </tr>\n",
              "    <tr>\n",
              "      <th>1331</th>\n",
              "      <td>r-67</td>\n",
              "      <td>1</td>\n",
              "      <td>NaN</td>\n",
              "      <td>I want to peruse that contract before filing i...</td>\n",
              "    </tr>\n",
              "    <tr>\n",
              "      <th>2019</th>\n",
              "      <td>rhl07</td>\n",
              "      <td>0</td>\n",
              "      <td>*</td>\n",
              "      <td>Jake sent the box at Carson.</td>\n",
              "    </tr>\n",
              "    <tr>\n",
              "      <th>636</th>\n",
              "      <td>bc01</td>\n",
              "      <td>1</td>\n",
              "      <td>NaN</td>\n",
              "      <td>John took Bill to be a fool.</td>\n",
              "    </tr>\n",
              "    <tr>\n",
              "      <th>7064</th>\n",
              "      <td>sgww85</td>\n",
              "      <td>1</td>\n",
              "      <td>NaN</td>\n",
              "      <td>I've got to both try and find that screw.</td>\n",
              "    </tr>\n",
              "    <tr>\n",
              "      <th>5130</th>\n",
              "      <td>ks08</td>\n",
              "      <td>1</td>\n",
              "      <td>NaN</td>\n",
              "      <td>This is how he did it.</td>\n",
              "    </tr>\n",
              "    <tr>\n",
              "      <th>7320</th>\n",
              "      <td>sks13</td>\n",
              "      <td>1</td>\n",
              "      <td>NaN</td>\n",
              "      <td>I said this.</td>\n",
              "    </tr>\n",
              "    <tr>\n",
              "      <th>3836</th>\n",
              "      <td>ks08</td>\n",
              "      <td>1</td>\n",
              "      <td>NaN</td>\n",
              "      <td>John resembles his mother.</td>\n",
              "    </tr>\n",
              "    <tr>\n",
              "      <th>1419</th>\n",
              "      <td>r-67</td>\n",
              "      <td>1</td>\n",
              "      <td>NaN</td>\n",
              "      <td>I gave to the officer in charge the blackjack....</td>\n",
              "    </tr>\n",
              "  </tbody>\n",
              "</table>\n",
              "</div>"
            ],
            "text/plain": [
              "     sentence_source  ...                                           sentence\n",
              "6385            d_98  ...  John talked to absolutely any woman who came u...\n",
              "4124            ks08  ...                        His friend learned dancing.\n",
              "1331            r-67  ...  I want to peruse that contract before filing i...\n",
              "2019           rhl07  ...                       Jake sent the box at Carson.\n",
              "636             bc01  ...                       John took Bill to be a fool.\n",
              "7064          sgww85  ...          I've got to both try and find that screw.\n",
              "5130            ks08  ...                             This is how he did it.\n",
              "7320           sks13  ...                                       I said this.\n",
              "3836            ks08  ...                         John resembles his mother.\n",
              "1419            r-67  ...  I gave to the officer in charge the blackjack....\n",
              "\n",
              "[10 rows x 4 columns]"
            ]
          },
          "metadata": {
            "tags": []
          },
          "execution_count": 11
        }
      ]
    },
    {
      "cell_type": "markdown",
      "metadata": {
        "id": "kfWzpPi92UAH",
        "colab_type": "text"
      },
      "source": [
        "The two properties we actually care about are the the `sentence` and its `label`, which is referred to as the \"acceptibility judgment\" (0=unacceptable, 1=acceptable)."
      ]
    },
    {
      "cell_type": "markdown",
      "metadata": {
        "id": "H_LpQfzCn9_o",
        "colab_type": "text"
      },
      "source": [
        "Here are five sentences which are labeled as not grammatically acceptible. Note how much more difficult this task is than something like sentiment analysis!"
      ]
    },
    {
      "cell_type": "code",
      "metadata": {
        "id": "blqIvQaQncdJ",
        "colab_type": "code",
        "colab": {
          "base_uri": "https://localhost:8080/",
          "height": 204
        },
        "outputId": "c34a4265-e98e-4626-9ef7-9bf462f32f99"
      },
      "source": [
        "df.loc[df.label == 0].sample(5)[['sentence', 'label']]"
      ],
      "execution_count": 12,
      "outputs": [
        {
          "output_type": "execute_result",
          "data": {
            "text/html": [
              "<div>\n",
              "<style scoped>\n",
              "    .dataframe tbody tr th:only-of-type {\n",
              "        vertical-align: middle;\n",
              "    }\n",
              "\n",
              "    .dataframe tbody tr th {\n",
              "        vertical-align: top;\n",
              "    }\n",
              "\n",
              "    .dataframe thead th {\n",
              "        text-align: right;\n",
              "    }\n",
              "</style>\n",
              "<table border=\"1\" class=\"dataframe\">\n",
              "  <thead>\n",
              "    <tr style=\"text-align: right;\">\n",
              "      <th></th>\n",
              "      <th>sentence</th>\n",
              "      <th>label</th>\n",
              "    </tr>\n",
              "  </thead>\n",
              "  <tbody>\n",
              "    <tr>\n",
              "      <th>2367</th>\n",
              "      <td>The glass cut Rachel in the toe.</td>\n",
              "      <td>0</td>\n",
              "    </tr>\n",
              "    <tr>\n",
              "      <th>4313</th>\n",
              "      <td>There tried to be intelligent.</td>\n",
              "      <td>0</td>\n",
              "    </tr>\n",
              "    <tr>\n",
              "      <th>7615</th>\n",
              "      <td>There ran many people.</td>\n",
              "      <td>0</td>\n",
              "    </tr>\n",
              "    <tr>\n",
              "      <th>2015</th>\n",
              "      <td>Felicia sent the box off the shelf.</td>\n",
              "      <td>0</td>\n",
              "    </tr>\n",
              "    <tr>\n",
              "      <th>4967</th>\n",
              "      <td>Who is that he has met extremely unlikely?</td>\n",
              "      <td>0</td>\n",
              "    </tr>\n",
              "  </tbody>\n",
              "</table>\n",
              "</div>"
            ],
            "text/plain": [
              "                                        sentence  label\n",
              "2367            The glass cut Rachel in the toe.      0\n",
              "4313              There tried to be intelligent.      0\n",
              "7615                      There ran many people.      0\n",
              "2015         Felicia sent the box off the shelf.      0\n",
              "4967  Who is that he has met extremely unlikely?      0"
            ]
          },
          "metadata": {
            "tags": []
          },
          "execution_count": 12
        }
      ]
    },
    {
      "cell_type": "markdown",
      "metadata": {
        "id": "4SMZ5T5Imhlx",
        "colab_type": "text"
      },
      "source": [
        "\n",
        "\n",
        "Let's extract the sentences and labels of our training set as numpy ndarrays."
      ]
    },
    {
      "cell_type": "code",
      "metadata": {
        "id": "GuE5BqICAne2",
        "colab_type": "code",
        "colab": {}
      },
      "source": [
        "# Get the lists of sentences and their labels.\n",
        "sentences = df.sentence.values\n",
        "labels = df.label.values"
      ],
      "execution_count": 13,
      "outputs": []
    },
    {
      "cell_type": "markdown",
      "metadata": {
        "id": "ex5O1eV-Pfct",
        "colab_type": "text"
      },
      "source": [
        "# 3. Tokenization & Input Formatting\n",
        "\n",
        "In this section, we'll transform our dataset into the format that BERT can be trained on."
      ]
    },
    {
      "cell_type": "markdown",
      "metadata": {
        "id": "-8kEDRvShcU5",
        "colab_type": "text"
      },
      "source": [
        "## 3.1. BERT Tokenizer"
      ]
    },
    {
      "cell_type": "markdown",
      "metadata": {
        "id": "bWOPOyWghJp2",
        "colab_type": "text"
      },
      "source": [
        "\n",
        "To feed our text to BERT, it must be split into tokens, and then these tokens must be mapped to their index in the tokenizer vocabulary.\n",
        "\n",
        "The tokenization must be performed by the tokenizer included with BERT--the below cell will download this for us. We'll be using the \"uncased\" version here.\n"
      ]
    },
    {
      "cell_type": "code",
      "metadata": {
        "id": "Z474sSC6oe7A",
        "colab_type": "code",
        "colab": {
          "base_uri": "https://localhost:8080/",
          "height": 83,
          "referenced_widgets": [
            "253911ce86c64d078bcaa10eda3570b5",
            "9004b17047144c67876c1239459c10f0",
            "cc69910bff4c4d4d87b25515b5597e1d",
            "21945b23104b43149324c18f3122f085",
            "a54d6b0acfda412981b1914477a63801",
            "6919230c5b704b63bd5c5cebcbc95d1e",
            "961ba1588a6b46cb8fff9ba670edd5b6",
            "093e9a19f71a48ac965e20f640319d66"
          ]
        },
        "outputId": "ae368155-2818-412b-8fc9-922ba51bdda4"
      },
      "source": [
        "from transformers import BertTokenizer\n",
        "\n",
        "# Load the BERT tokenizer.\n",
        "print('Loading BERT tokenizer...')\n",
        "tokenizer = BertTokenizer.from_pretrained('bert-base-uncased', do_lower_case=True)## using bert base model"
      ],
      "execution_count": 14,
      "outputs": [
        {
          "output_type": "stream",
          "text": [
            "Loading BERT tokenizer...\n"
          ],
          "name": "stdout"
        },
        {
          "output_type": "display_data",
          "data": {
            "application/vnd.jupyter.widget-view+json": {
              "model_id": "253911ce86c64d078bcaa10eda3570b5",
              "version_minor": 0,
              "version_major": 2
            },
            "text/plain": [
              "HBox(children=(FloatProgress(value=0.0, description='Downloading', max=231508.0, style=ProgressStyle(descripti…"
            ]
          },
          "metadata": {
            "tags": []
          }
        },
        {
          "output_type": "stream",
          "text": [
            "\n"
          ],
          "name": "stdout"
        }
      ]
    },
    {
      "cell_type": "code",
      "metadata": {
        "id": "2XPJVIKSnbZv",
        "colab_type": "code",
        "colab": {
          "base_uri": "https://localhost:8080/",
          "height": 34
        },
        "outputId": "5ea0131c-c4e1-4434-b48c-54ceb9f26628"
      },
      "source": [
        "tokenizer"
      ],
      "execution_count": 15,
      "outputs": [
        {
          "output_type": "execute_result",
          "data": {
            "text/plain": [
              "<transformers.tokenization_bert.BertTokenizer at 0x7f15aaf18e10>"
            ]
          },
          "metadata": {
            "tags": []
          },
          "execution_count": 15
        }
      ]
    },
    {
      "cell_type": "markdown",
      "metadata": {
        "id": "dFzmtleW6KmJ",
        "colab_type": "text"
      },
      "source": [
        "Let's apply the tokenizer to one sentence just to see the output.\n"
      ]
    },
    {
      "cell_type": "code",
      "metadata": {
        "id": "dLIbudgfh6F0",
        "colab_type": "code",
        "colab": {
          "base_uri": "https://localhost:8080/",
          "height": 68
        },
        "outputId": "a077394c-df70-45ce-9ecc-ce240196e856"
      },
      "source": [
        "# Print the original sentence.\n",
        "print(' Original: ', sentences[0])\n",
        "\n",
        "# Print the sentence split into tokens.\n",
        "print('Tokenized: ', tokenizer.tokenize(sentences[0]))\n",
        "\n",
        "# Print the sentence mapped to token ids.\n",
        "print('Token IDs: ', tokenizer.convert_tokens_to_ids(tokenizer.tokenize(sentences[0])))"
      ],
      "execution_count": 16,
      "outputs": [
        {
          "output_type": "stream",
          "text": [
            " Original:  Our friends won't buy this analysis, let alone the next one we propose.\n",
            "Tokenized:  ['our', 'friends', 'won', \"'\", 't', 'buy', 'this', 'analysis', ',', 'let', 'alone', 'the', 'next', 'one', 'we', 'propose', '.']\n",
            "Token IDs:  [2256, 2814, 2180, 1005, 1056, 4965, 2023, 4106, 1010, 2292, 2894, 1996, 2279, 2028, 2057, 16599, 1012]\n"
          ],
          "name": "stdout"
        }
      ]
    },
    {
      "cell_type": "markdown",
      "metadata": {
        "id": "WeNIc4auFUdF",
        "colab_type": "text"
      },
      "source": [
        "When we actually convert all of our sentences, we'll use the `tokenize.encode` function to handle both steps, rather than calling `tokenize` and `convert_tokens_to_ids` separately. \n",
        "\n",
        "Before we can do that, though, we need to talk about some of BERT's formatting requirements."
      ]
    },
    {
      "cell_type": "markdown",
      "metadata": {
        "id": "viKGCCh8izww",
        "colab_type": "text"
      },
      "source": [
        "## 3.2. Required Formatting"
      ]
    },
    {
      "cell_type": "markdown",
      "metadata": {
        "id": "yDcqNlvVhL5W",
        "colab_type": "text"
      },
      "source": [
        "The above code left out a few required formatting steps that we'll look at here.\n",
        "\n",
        "*Side Note: The input format to BERT seems \"over-specified\" to me... We are required to give it a number of pieces of information which seem redundant, or like they could easily be inferred from the data without us explicity providing it. But it is what it is, and I suspect it will make more sense once I have a deeper understanding of the BERT internals.*\n",
        "\n",
        "We are required to:\n",
        "1. Add special tokens to the start and end of each sentence.\n",
        "2. Pad & truncate all sentences to a single constant length.\n",
        "3. Explicitly differentiate real tokens from padding tokens with the \"attention mask\".\n",
        "\n"
      ]
    },
    {
      "cell_type": "markdown",
      "metadata": {
        "id": "V6mceWWOjZnw",
        "colab_type": "text"
      },
      "source": [
        "### Special Tokens\n"
      ]
    },
    {
      "cell_type": "markdown",
      "metadata": {
        "id": "Ykk0P9JiKtVe",
        "colab_type": "text"
      },
      "source": [
        "\n",
        "**`[SEP]`**\n",
        "\n",
        "At the end of every sentence, we need to append the special `[SEP]` token. \n",
        "\n",
        "This token is an artifact of two-sentence tasks, where BERT is given two separate sentences and asked to determine something (e.g., can the answer to the question in sentence A be found in sentence B?). \n",
        "\n",
        "I am not certain yet why the token is still required when we have only single-sentence input, but it is!\n"
      ]
    },
    {
      "cell_type": "markdown",
      "metadata": {
        "id": "86C9objaKu8f",
        "colab_type": "text"
      },
      "source": [
        "**`[CLS]`**\n",
        "\n",
        "For classification tasks, we must prepend the special `[CLS]` token to the beginning of every sentence.\n",
        "\n",
        "This token has special significance. BERT consists of 12 Transformer layers. Each transformer takes in a list of token embeddings, and produces the same number of embeddings on the output (but with the feature values changed, of course!).\n",
        "\n",
        "![Illustration of CLS token purpose](http://www.mccormickml.com/assets/BERT/CLS_token_500x606.png)\n",
        "\n",
        "On the output of the final (12th) transformer, *only the first embedding (corresponding to the [CLS] token) is used by the classifier*.\n",
        "\n",
        ">  \"The first token of every sequence is always a special classification token (`[CLS]`). The final hidden state\n",
        "corresponding to this token is used as the aggregate sequence representation for classification\n",
        "tasks.\" (from the [BERT paper](https://arxiv.org/pdf/1810.04805.pdf))\n",
        "\n",
        "I'm not sure why the authors took this strategy instead of some kind of pooling of all the final vectors, but I'm sure that if pooling were better they would have gone that route. \n",
        "\n",
        "Also, because BERT is trained to only use this [CLS] token for classification, we know that the model has been motivated to encode everything it needs for the classification step into that single 768-value embedding vector.\n",
        "\n"
      ]
    },
    {
      "cell_type": "markdown",
      "metadata": {
        "id": "u51v0kFxeteu",
        "colab_type": "text"
      },
      "source": [
        "### Sentence Length & Attention Mask\n",
        "\n"
      ]
    },
    {
      "cell_type": "markdown",
      "metadata": {
        "id": "qPNuwqZVK3T6",
        "colab_type": "text"
      },
      "source": [
        "The sentences in our dataset obviously have varying lengths, so how does BERT handle this?\n",
        "\n",
        "BERT has two constraints:\n",
        "1. All sentences must be padded or truncated to a single, fixed length.\n",
        "2. The maximum sentence length is 512 tokens.\n",
        "\n",
        "Padding is done with a special `[PAD]` token, which is at index 0 in the BERT vocabulary. The below illustration demonstrates padding out to a \"MAX_LEN\" of 8 tokens.\n",
        "\n",
        "<img src=\"http://www.mccormickml.com/assets/BERT/padding_and_mask.png\" width=\"600\">\n",
        "\n",
        "The \"Attention Mask\" is simply an array of 1s and 0s indicating which tokens are padding and which aren't (seems kind of redundant, doesn't it?! Again, I don't currently know why).\n",
        "\n",
        "I've experimented with running this notebook with two different values of MAX_LEN, and it impacted both the training speed and the  test set accuracy.\n",
        "\n",
        "With a Tesla K80 and:\n",
        "\n",
        "```\n",
        "MAX_LEN = 128  -->  Training epochs take ~5:28 each, score is 0.535\n",
        "MAX_LEN = 64   -->  Training epochs take ~2:57 each, score is 0.566\n",
        "```\n",
        "These results suggest to me that the padding tokens aren't simply skipped over--that they are in fact fed through the model and incorporated in the results (thereby impacting both model speed and accuracy). I'll have to dig into the architecture more to understand this.\n",
        "\n",
        "\n",
        "\n",
        "\n"
      ]
    },
    {
      "cell_type": "markdown",
      "metadata": {
        "id": "l6w8elb-58GJ",
        "colab_type": "text"
      },
      "source": [
        "## 3.2. Sentences to IDs"
      ]
    },
    {
      "cell_type": "markdown",
      "metadata": {
        "id": "1M296yz577fV",
        "colab_type": "text"
      },
      "source": [
        "The `tokenizer.encode` function combines multiple steps for us:\n",
        "1. Split the sentence into tokens.\n",
        "2. Add the special `[CLS]` and `[SEP]` tokens.\n",
        "3. Map the tokens to their IDs.\n",
        "\n",
        "Oddly, this function can perform truncating for us, but doesn't handle padding. "
      ]
    },
    {
      "cell_type": "code",
      "metadata": {
        "id": "2bBdb3pt8LuQ",
        "colab_type": "code",
        "colab": {
          "base_uri": "https://localhost:8080/",
          "height": 51
        },
        "outputId": "98b1a177-5cd8-45e2-ebc0-572f69f388bd"
      },
      "source": [
        "# Tokenize all of the sentences and map the tokens to thier word IDs.\n",
        "input_ids = []\n",
        "\n",
        "# For every sentence...\n",
        "for sent in sentences:\n",
        "    # `encode` will:\n",
        "    #   (1) Tokenize the sentence.\n",
        "    #   (2) Prepend the `[CLS]` token to the start.\n",
        "    #   (3) Append the `[SEP]` token to the end.\n",
        "    #   (4) Map tokens to their IDs.\n",
        "    encoded_sent = tokenizer.encode(\n",
        "                        sent,                      # Sentence to encode.\n",
        "                        add_special_tokens = True, # Add '[CLS]' and '[SEP]'\n",
        "\n",
        "                        # This function also supports truncation and conversion\n",
        "                        # to pytorch tensors, but we need to do padding, so we\n",
        "                        # can't use these features :( .\n",
        "                        #max_length = 128,          # Truncate all sentences.\n",
        "                        #return_tensors = 'pt',     # Return pytorch tensors.\n",
        "                   )\n",
        "    \n",
        "    # Add the encoded sentence to the list.\n",
        "    input_ids.append(encoded_sent)\n",
        "\n",
        "# Print sentence 0, now as a list of IDs.\n",
        "print('Original: ', sentences[0])\n",
        "print('Token IDs:', input_ids[0])"
      ],
      "execution_count": 18,
      "outputs": [
        {
          "output_type": "stream",
          "text": [
            "Original:  Our friends won't buy this analysis, let alone the next one we propose.\n",
            "Token IDs: [101, 2256, 2814, 2180, 1005, 1056, 4965, 2023, 4106, 1010, 2292, 2894, 1996, 2279, 2028, 2057, 16599, 1012, 102]\n"
          ],
          "name": "stdout"
        }
      ]
    },
    {
      "cell_type": "markdown",
      "metadata": {
        "id": "WhwCKszh6ych",
        "colab_type": "text"
      },
      "source": [
        "## 3.3. Padding & Truncating"
      ]
    },
    {
      "cell_type": "markdown",
      "metadata": {
        "id": "xytsw1oIfnX0",
        "colab_type": "text"
      },
      "source": [
        "Pad and truncate our sequences so that they all have the same length, `MAX_LEN`."
      ]
    },
    {
      "cell_type": "markdown",
      "metadata": {
        "id": "zqiWTDrn_nGB",
        "colab_type": "text"
      },
      "source": [
        "First, what's the maximum sentence length in our dataset?"
      ]
    },
    {
      "cell_type": "code",
      "metadata": {
        "id": "JhUZO9vc_l6T",
        "colab_type": "code",
        "colab": {
          "base_uri": "https://localhost:8080/",
          "height": 34
        },
        "outputId": "dd180c4c-4cb4-4d65-c48c-9481cca4888f"
      },
      "source": [
        "print('Max sentence length: ', max([len(sen) for sen in input_ids]))"
      ],
      "execution_count": 20,
      "outputs": [
        {
          "output_type": "stream",
          "text": [
            "Max sentence length:  47\n"
          ],
          "name": "stdout"
        }
      ]
    },
    {
      "cell_type": "markdown",
      "metadata": {
        "id": "hp-54FcQ_p3h",
        "colab_type": "text"
      },
      "source": [
        "Given that, let's choose MAX_LEN = 64 and apply the padding."
      ]
    },
    {
      "cell_type": "code",
      "metadata": {
        "id": "Cp9BPRd1tMIo",
        "colab_type": "code",
        "colab": {
          "base_uri": "https://localhost:8080/",
          "height": 119
        },
        "outputId": "d29076a6-6284-4dbd-a8b9-613067c693b6"
      },
      "source": [
        "# We'll borrow the `pad_sequences` utility function to do this.\n",
        "from keras.preprocessing.sequence import pad_sequences\n",
        "\n",
        "# Set the maximum sequence length.\n",
        "# I've chosen 64 somewhat arbitrarily. It's slightly larger than the\n",
        "# maximum training sentence length of 47...\n",
        "MAX_LEN = 64\n",
        "\n",
        "print('\\nPadding/truncating all sentences to %d values...' % MAX_LEN)\n",
        "\n",
        "print('\\nPadding token: \"{:}\", ID: {:}'.format(tokenizer.pad_token, tokenizer.pad_token_id))\n",
        "\n",
        "# Pad our input tokens with value 0.\n",
        "# \"post\" indicates that we want to pad and truncate at the end of the sequence,\n",
        "# as opposed to the beginning.\n",
        "input_ids = pad_sequences(input_ids, maxlen=MAX_LEN, dtype=\"long\", \n",
        "                          value=0, truncating=\"post\", padding=\"post\")\n",
        "\n",
        "print('\\nDone.')"
      ],
      "execution_count": 21,
      "outputs": [
        {
          "output_type": "stream",
          "text": [
            "\n",
            "Padding/truncating all sentences to 64 values...\n",
            "\n",
            "Padding token: \"[PAD]\", ID: 0\n",
            "\n",
            "Done.\n"
          ],
          "name": "stdout"
        }
      ]
    },
    {
      "cell_type": "markdown",
      "metadata": {
        "id": "PP8EB9n4sm90",
        "colab_type": "text"
      },
      "source": [
        "![image.png](data:image/png;base64,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)[link text](https://)"
      ]
    },
    {
      "cell_type": "markdown",
      "metadata": {
        "id": "KES9YkYIsps1",
        "colab_type": "text"
      },
      "source": [
        ""
      ]
    },
    {
      "cell_type": "markdown",
      "metadata": {
        "id": "kDs-MYtYH8sL",
        "colab_type": "text"
      },
      "source": [
        "## 3.4. Attention Masks"
      ]
    },
    {
      "cell_type": "markdown",
      "metadata": {
        "id": "KhGulL1pExCT",
        "colab_type": "text"
      },
      "source": [
        "The attention mask simply makes it explicit which tokens are actual words versus which are padding. \n",
        "\n",
        "The BERT vocabulary does not use the ID 0, so if a token ID is 0, then it's padding, and otherwise it's a real token."
      ]
    },
    {
      "cell_type": "code",
      "metadata": {
        "id": "cDoC24LeEv3N",
        "colab_type": "code",
        "colab": {}
      },
      "source": [
        "# Create attention masks\n",
        "attention_masks = []\n",
        "\n",
        "# For each sentence...\n",
        "for sent in input_ids:\n",
        "    \n",
        "    # Create the attention mask.\n",
        "    #   - If a token ID is 0, then it's padding, set the mask to 0.\n",
        "    #   - If a token ID is > 0, then it's a real token, set the mask to 1.\n",
        "    att_mask = [int(token_id > 0) for token_id in sent]\n",
        "    \n",
        "    # Store the attention mask for this sentence.\n",
        "    attention_masks.append(att_mask)"
      ],
      "execution_count": 22,
      "outputs": []
    },
    {
      "cell_type": "code",
      "metadata": {
        "id": "U8rDXvN4nIzn",
        "colab_type": "code",
        "colab": {
          "base_uri": "https://localhost:8080/",
          "height": 153
        },
        "outputId": "62a97762-2c8a-46c9-d80f-f08937f3fb40"
      },
      "source": [
        "input_ids[0]"
      ],
      "execution_count": 23,
      "outputs": [
        {
          "output_type": "execute_result",
          "data": {
            "text/plain": [
              "array([  101,  2256,  2814,  2180,  1005,  1056,  4965,  2023,  4106,\n",
              "        1010,  2292,  2894,  1996,  2279,  2028,  2057, 16599,  1012,\n",
              "         102,     0,     0,     0,     0,     0,     0,     0,     0,\n",
              "           0,     0,     0,     0,     0,     0,     0,     0,     0,\n",
              "           0,     0,     0,     0,     0,     0,     0,     0,     0,\n",
              "           0,     0,     0,     0,     0,     0,     0,     0,     0,\n",
              "           0,     0,     0,     0,     0,     0,     0,     0,     0,\n",
              "           0])"
            ]
          },
          "metadata": {
            "tags": []
          },
          "execution_count": 23
        }
      ]
    },
    {
      "cell_type": "markdown",
      "metadata": {
        "id": "aRp4O7D295d_",
        "colab_type": "text"
      },
      "source": [
        "## 3.5. Training & Validation Split\n"
      ]
    },
    {
      "cell_type": "markdown",
      "metadata": {
        "id": "qu0ao7p8rb06",
        "colab_type": "text"
      },
      "source": [
        "Divide up our training set to use 90% for training and 10% for validation."
      ]
    },
    {
      "cell_type": "code",
      "metadata": {
        "id": "aFbE-UHvsb7-",
        "colab_type": "code",
        "colab": {}
      },
      "source": [
        "# Use train_test_split to split our data into train and validation sets for\n",
        "# training\n",
        "from sklearn.model_selection import train_test_split\n",
        "\n",
        "# Use 90% for training and 10% for validation.\n",
        "train_inputs, validation_inputs, train_labels, validation_labels = train_test_split(input_ids, labels, \n",
        "                                                            random_state=2018, test_size=0.1)\n",
        "# Do the same for the masks.\n",
        "train_masks, validation_masks, _, _ = train_test_split(attention_masks, labels,\n",
        "                                             random_state=2018, test_size=0.1)"
      ],
      "execution_count": 24,
      "outputs": []
    },
    {
      "cell_type": "markdown",
      "metadata": {
        "id": "7LzSbTqW9_BR",
        "colab_type": "text"
      },
      "source": [
        "## 3.6. Converting to PyTorch Data Types"
      ]
    },
    {
      "cell_type": "markdown",
      "metadata": {
        "id": "6p1uXczp-Je4",
        "colab_type": "text"
      },
      "source": [
        "Our model expects PyTorch tensors rather than numpy.ndarrays, so convert all of our dataset variables."
      ]
    },
    {
      "cell_type": "code",
      "metadata": {
        "id": "jw5K2A5Ko1RF",
        "colab_type": "code",
        "colab": {}
      },
      "source": [
        "# Convert all inputs and labels into torch tensors, the required datatype \n",
        "# for our model.\n",
        "train_inputs = torch.tensor(train_inputs)\n",
        "validation_inputs = torch.tensor(validation_inputs)\n",
        "\n",
        "train_labels = torch.tensor(train_labels)\n",
        "validation_labels = torch.tensor(validation_labels)\n",
        "\n",
        "train_masks = torch.tensor(train_masks)\n",
        "validation_masks = torch.tensor(validation_masks)"
      ],
      "execution_count": 25,
      "outputs": []
    },
    {
      "cell_type": "markdown",
      "metadata": {
        "id": "dD9i6Z2pG-sN",
        "colab_type": "text"
      },
      "source": [
        "We'll also create an iterator for our dataset using the torch DataLoader class. This helps save on memory during training because, unlike a for loop, with an iterator the entire dataset does not need to be loaded into memory."
      ]
    },
    {
      "cell_type": "code",
      "metadata": {
        "id": "GEgLpFVlo1Z-",
        "colab_type": "code",
        "colab": {}
      },
      "source": [
        "from torch.utils.data import TensorDataset, DataLoader, RandomSampler, SequentialSampler\n",
        "\n",
        "# The DataLoader needs to know our batch size for training, so we specify it \n",
        "# here.\n",
        "# For fine-tuning BERT on a specific task, the authors recommend a batch size of\n",
        "# 16 or 32.\n",
        "\n",
        "batch_size = 32\n",
        "\n",
        "# Create the DataLoader for our training set.\n",
        "train_data = TensorDataset(train_inputs, train_masks, train_labels)\n",
        "train_sampler = RandomSampler(train_data)\n",
        "train_dataloader = DataLoader(train_data, sampler=train_sampler, batch_size=batch_size)\n",
        "\n",
        "# Create the DataLoader for our validation set.\n",
        "validation_data = TensorDataset(validation_inputs, validation_masks, validation_labels)\n",
        "validation_sampler = SequentialSampler(validation_data)\n",
        "validation_dataloader = DataLoader(validation_data, sampler=validation_sampler, batch_size=batch_size)\n"
      ],
      "execution_count": 26,
      "outputs": []
    },
    {
      "cell_type": "markdown",
      "metadata": {
        "id": "8bwa6Rts-02-",
        "colab_type": "text"
      },
      "source": [
        "# 4. Train Our Classification Model"
      ]
    },
    {
      "cell_type": "markdown",
      "metadata": {
        "id": "3xYQ3iLO08SX",
        "colab_type": "text"
      },
      "source": [
        "Now that our input data is properly formatted, it's time to fine tune the BERT model. "
      ]
    },
    {
      "cell_type": "markdown",
      "metadata": {
        "id": "D6TKgyUzPIQc",
        "colab_type": "text"
      },
      "source": [
        "## 4.1. BertForSequenceClassification"
      ]
    },
    {
      "cell_type": "markdown",
      "metadata": {
        "id": "1sjzRT1V0zwm",
        "colab_type": "text"
      },
      "source": [
        "For this task, we first want to modify the pre-trained BERT model to give outputs for classification, and then we want to continue training the model on our dataset until that the entire model, end-to-end, is well-suited for our task. \n",
        "\n",
        "Thankfully, the huggingface pytorch implementation includes a set of interfaces designed for a variety of NLP tasks. Though these interfaces are all built on top of a trained BERT model, each has different top layers and output types designed to accomodate their specific NLP task.  \n",
        "\n",
        "Here is the current list of classes provided for fine-tuning:\n",
        "* BertModel\n",
        "* BertForPreTraining\n",
        "* BertForMaskedLM\n",
        "* BertForNextSentencePrediction\n",
        "* **BertForSequenceClassification** - The one we'll use.\n",
        "* BertForTokenClassification\n",
        "* BertForQuestionAnswering\n",
        "\n",
        "The documentation for these can be found under [here](https://huggingface.co/transformers/v2.2.0/model_doc/bert.html)."
      ]
    },
    {
      "cell_type": "markdown",
      "metadata": {
        "id": "BXYitPoE-cjH",
        "colab_type": "text"
      },
      "source": [
        "\n",
        "\n",
        "We'll be using [BertForSequenceClassification](https://huggingface.co/transformers/v2.2.0/model_doc/bert.html#bertforsequenceclassification). This is the normal BERT model with an added single linear layer on top for classification that we will use as a sentence classifier. As we feed input data, the entire pre-trained BERT model and the additional untrained classification layer is trained on our specific task. \n"
      ]
    },
    {
      "cell_type": "markdown",
      "metadata": {
        "id": "WnQW9E-bBCRt",
        "colab_type": "text"
      },
      "source": [
        "OK, let's load BERT! There are a few different pre-trained BERT models available. \"bert-base-uncased\" means the version that has only lowercase letters (\"uncased\") and is the smaller version of the two (\"base\" vs \"large\").\n",
        "\n",
        "The documentation for `from_pretrained` can be found [here](https://huggingface.co/transformers/v2.2.0/main_classes/model.html#transformers.PreTrainedModel.from_pretrained), with the additional parameters defined [here](https://huggingface.co/transformers/v2.2.0/main_classes/configuration.html#transformers.PretrainedConfig)."
      ]
    },
    {
      "cell_type": "code",
      "metadata": {
        "id": "gFsCTp_mporB",
        "colab_type": "code",
        "colab": {
          "base_uri": "https://localhost:8080/",
          "height": 1000,
          "referenced_widgets": [
            "8caa47775f1741718453daa82c8cff0a",
            "6438405f60034e6b84d8ecb33d6d7c80",
            "6ed7f827dcf34040876dddf2b7b25fa9",
            "06d74addc7574098b6a4fb866f9f7e5e",
            "a68b7a565e7c455d999ceb41a69e3622",
            "2d859e1ec3b54cb698e9115d8f92e8f6",
            "480e2fcfb4e341bdaa959dc81893db72",
            "979303a86b54460892d34229d6f18931",
            "503c293945e14cbc95a7638bd5d1c9f3",
            "09c422bc08cf4f50b62e1b0a0c9b7277",
            "64d2107503cb4b96bdb376949fa8b4b2",
            "c984f111c9044ce7a1b1aa459fe92bb5",
            "b09077c3e96d4195aff4b64eb77aac38",
            "03e9d5ff6ed14e2286d8522e3b031e55",
            "0c5bd2ff0c67467da7c4c1d23acd7931",
            "2476abbbbd294ed9acb6053c0ca33d7b"
          ]
        },
        "outputId": "8f636012-b6ab-4b83-e962-38a725bf7290"
      },
      "source": [
        "from transformers import BertForSequenceClassification, AdamW, BertConfig\n",
        "\n",
        "# Load BertForSequenceClassification, the pretrained BERT model with a single \n",
        "# linear classification layer on top. \n",
        "model = BertForSequenceClassification.from_pretrained(\n",
        "    \"bert-base-uncased\", # Use the 12-layer BERT model, with an uncased vocab.\n",
        "    num_labels = 2, # The number of output labels--2 for binary classification.\n",
        "                    # You can increase this for multi-class tasks.   \n",
        "    output_attentions = False, # Whether the model returns attentions weights.\n",
        "    output_hidden_states = False, # Whether the model returns all hidden-states.\n",
        ")\n",
        "\n",
        "# Tell pytorch to run this model on the GPU.\n",
        "model.cuda()"
      ],
      "execution_count": 27,
      "outputs": [
        {
          "output_type": "display_data",
          "data": {
            "application/vnd.jupyter.widget-view+json": {
              "model_id": "8caa47775f1741718453daa82c8cff0a",
              "version_minor": 0,
              "version_major": 2
            },
            "text/plain": [
              "HBox(children=(FloatProgress(value=0.0, description='Downloading', max=433.0, style=ProgressStyle(description_…"
            ]
          },
          "metadata": {
            "tags": []
          }
        },
        {
          "output_type": "stream",
          "text": [
            "\n"
          ],
          "name": "stdout"
        },
        {
          "output_type": "display_data",
          "data": {
            "application/vnd.jupyter.widget-view+json": {
              "model_id": "503c293945e14cbc95a7638bd5d1c9f3",
              "version_minor": 0,
              "version_major": 2
            },
            "text/plain": [
              "HBox(children=(FloatProgress(value=0.0, description='Downloading', max=440473133.0, style=ProgressStyle(descri…"
            ]
          },
          "metadata": {
            "tags": []
          }
        },
        {
          "output_type": "stream",
          "text": [
            "\n"
          ],
          "name": "stdout"
        },
        {
          "output_type": "stream",
          "text": [
            "Some weights of the model checkpoint at bert-base-uncased were not used when initializing BertForSequenceClassification: ['cls.predictions.bias', 'cls.predictions.transform.dense.weight', 'cls.predictions.transform.dense.bias', 'cls.predictions.decoder.weight', 'cls.seq_relationship.weight', 'cls.seq_relationship.bias', 'cls.predictions.transform.LayerNorm.weight', 'cls.predictions.transform.LayerNorm.bias']\n",
            "- This IS expected if you are initializing BertForSequenceClassification from the checkpoint of a model trained on another task or with another architecture (e.g. initializing a BertForSequenceClassification model from a BertForPretraining model).\n",
            "- This IS NOT expected if you are initializing BertForSequenceClassification from the checkpoint of a model that you expect to be exactly identical (initializing a BertForSequenceClassification model from a BertForSequenceClassification model).\n",
            "Some weights of BertForSequenceClassification were not initialized from the model checkpoint at bert-base-uncased and are newly initialized: ['classifier.weight', 'classifier.bias']\n",
            "You should probably TRAIN this model on a down-stream task to be able to use it for predictions and inference.\n"
          ],
          "name": "stderr"
        },
        {
          "output_type": "execute_result",
          "data": {
            "text/plain": [
              "BertForSequenceClassification(\n",
              "  (bert): BertModel(\n",
              "    (embeddings): BertEmbeddings(\n",
              "      (word_embeddings): Embedding(30522, 768, padding_idx=0)\n",
              "      (position_embeddings): Embedding(512, 768)\n",
              "      (token_type_embeddings): Embedding(2, 768)\n",
              "      (LayerNorm): LayerNorm((768,), eps=1e-12, elementwise_affine=True)\n",
              "      (dropout): Dropout(p=0.1, inplace=False)\n",
              "    )\n",
              "    (encoder): BertEncoder(\n",
              "      (layer): ModuleList(\n",
              "        (0): BertLayer(\n",
              "          (attention): BertAttention(\n",
              "            (self): BertSelfAttention(\n",
              "              (query): Linear(in_features=768, out_features=768, bias=True)\n",
              "              (key): Linear(in_features=768, out_features=768, bias=True)\n",
              "              (value): Linear(in_features=768, out_features=768, bias=True)\n",
              "              (dropout): Dropout(p=0.1, inplace=False)\n",
              "            )\n",
              "            (output): BertSelfOutput(\n",
              "              (dense): Linear(in_features=768, out_features=768, bias=True)\n",
              "              (LayerNorm): LayerNorm((768,), eps=1e-12, elementwise_affine=True)\n",
              "              (dropout): Dropout(p=0.1, inplace=False)\n",
              "            )\n",
              "          )\n",
              "          (intermediate): BertIntermediate(\n",
              "            (dense): Linear(in_features=768, out_features=3072, bias=True)\n",
              "          )\n",
              "          (output): BertOutput(\n",
              "            (dense): Linear(in_features=3072, out_features=768, bias=True)\n",
              "            (LayerNorm): LayerNorm((768,), eps=1e-12, elementwise_affine=True)\n",
              "            (dropout): Dropout(p=0.1, inplace=False)\n",
              "          )\n",
              "        )\n",
              "        (1): BertLayer(\n",
              "          (attention): BertAttention(\n",
              "            (self): BertSelfAttention(\n",
              "              (query): Linear(in_features=768, out_features=768, bias=True)\n",
              "              (key): Linear(in_features=768, out_features=768, bias=True)\n",
              "              (value): Linear(in_features=768, out_features=768, bias=True)\n",
              "              (dropout): Dropout(p=0.1, inplace=False)\n",
              "            )\n",
              "            (output): BertSelfOutput(\n",
              "              (dense): Linear(in_features=768, out_features=768, bias=True)\n",
              "              (LayerNorm): LayerNorm((768,), eps=1e-12, elementwise_affine=True)\n",
              "              (dropout): Dropout(p=0.1, inplace=False)\n",
              "            )\n",
              "          )\n",
              "          (intermediate): BertIntermediate(\n",
              "            (dense): Linear(in_features=768, out_features=3072, bias=True)\n",
              "          )\n",
              "          (output): BertOutput(\n",
              "            (dense): Linear(in_features=3072, out_features=768, bias=True)\n",
              "            (LayerNorm): LayerNorm((768,), eps=1e-12, elementwise_affine=True)\n",
              "            (dropout): Dropout(p=0.1, inplace=False)\n",
              "          )\n",
              "        )\n",
              "        (2): BertLayer(\n",
              "          (attention): BertAttention(\n",
              "            (self): BertSelfAttention(\n",
              "              (query): Linear(in_features=768, out_features=768, bias=True)\n",
              "              (key): Linear(in_features=768, out_features=768, bias=True)\n",
              "              (value): Linear(in_features=768, out_features=768, bias=True)\n",
              "              (dropout): Dropout(p=0.1, inplace=False)\n",
              "            )\n",
              "            (output): BertSelfOutput(\n",
              "              (dense): Linear(in_features=768, out_features=768, bias=True)\n",
              "              (LayerNorm): LayerNorm((768,), eps=1e-12, elementwise_affine=True)\n",
              "              (dropout): Dropout(p=0.1, inplace=False)\n",
              "            )\n",
              "          )\n",
              "          (intermediate): BertIntermediate(\n",
              "            (dense): Linear(in_features=768, out_features=3072, bias=True)\n",
              "          )\n",
              "          (output): BertOutput(\n",
              "            (dense): Linear(in_features=3072, out_features=768, bias=True)\n",
              "            (LayerNorm): LayerNorm((768,), eps=1e-12, elementwise_affine=True)\n",
              "            (dropout): Dropout(p=0.1, inplace=False)\n",
              "          )\n",
              "        )\n",
              "        (3): BertLayer(\n",
              "          (attention): BertAttention(\n",
              "            (self): BertSelfAttention(\n",
              "              (query): Linear(in_features=768, out_features=768, bias=True)\n",
              "              (key): Linear(in_features=768, out_features=768, bias=True)\n",
              "              (value): Linear(in_features=768, out_features=768, bias=True)\n",
              "              (dropout): Dropout(p=0.1, inplace=False)\n",
              "            )\n",
              "            (output): BertSelfOutput(\n",
              "              (dense): Linear(in_features=768, out_features=768, bias=True)\n",
              "              (LayerNorm): LayerNorm((768,), eps=1e-12, elementwise_affine=True)\n",
              "              (dropout): Dropout(p=0.1, inplace=False)\n",
              "            )\n",
              "          )\n",
              "          (intermediate): BertIntermediate(\n",
              "            (dense): Linear(in_features=768, out_features=3072, bias=True)\n",
              "          )\n",
              "          (output): BertOutput(\n",
              "            (dense): Linear(in_features=3072, out_features=768, bias=True)\n",
              "            (LayerNorm): LayerNorm((768,), eps=1e-12, elementwise_affine=True)\n",
              "            (dropout): Dropout(p=0.1, inplace=False)\n",
              "          )\n",
              "        )\n",
              "        (4): BertLayer(\n",
              "          (attention): BertAttention(\n",
              "            (self): BertSelfAttention(\n",
              "              (query): Linear(in_features=768, out_features=768, bias=True)\n",
              "              (key): Linear(in_features=768, out_features=768, bias=True)\n",
              "              (value): Linear(in_features=768, out_features=768, bias=True)\n",
              "              (dropout): Dropout(p=0.1, inplace=False)\n",
              "            )\n",
              "            (output): BertSelfOutput(\n",
              "              (dense): Linear(in_features=768, out_features=768, bias=True)\n",
              "              (LayerNorm): LayerNorm((768,), eps=1e-12, elementwise_affine=True)\n",
              "              (dropout): Dropout(p=0.1, inplace=False)\n",
              "            )\n",
              "          )\n",
              "          (intermediate): BertIntermediate(\n",
              "            (dense): Linear(in_features=768, out_features=3072, bias=True)\n",
              "          )\n",
              "          (output): BertOutput(\n",
              "            (dense): Linear(in_features=3072, out_features=768, bias=True)\n",
              "            (LayerNorm): LayerNorm((768,), eps=1e-12, elementwise_affine=True)\n",
              "            (dropout): Dropout(p=0.1, inplace=False)\n",
              "          )\n",
              "        )\n",
              "        (5): BertLayer(\n",
              "          (attention): BertAttention(\n",
              "            (self): BertSelfAttention(\n",
              "              (query): Linear(in_features=768, out_features=768, bias=True)\n",
              "              (key): Linear(in_features=768, out_features=768, bias=True)\n",
              "              (value): Linear(in_features=768, out_features=768, bias=True)\n",
              "              (dropout): Dropout(p=0.1, inplace=False)\n",
              "            )\n",
              "            (output): BertSelfOutput(\n",
              "              (dense): Linear(in_features=768, out_features=768, bias=True)\n",
              "              (LayerNorm): LayerNorm((768,), eps=1e-12, elementwise_affine=True)\n",
              "              (dropout): Dropout(p=0.1, inplace=False)\n",
              "            )\n",
              "          )\n",
              "          (intermediate): BertIntermediate(\n",
              "            (dense): Linear(in_features=768, out_features=3072, bias=True)\n",
              "          )\n",
              "          (output): BertOutput(\n",
              "            (dense): Linear(in_features=3072, out_features=768, bias=True)\n",
              "            (LayerNorm): LayerNorm((768,), eps=1e-12, elementwise_affine=True)\n",
              "            (dropout): Dropout(p=0.1, inplace=False)\n",
              "          )\n",
              "        )\n",
              "        (6): BertLayer(\n",
              "          (attention): BertAttention(\n",
              "            (self): BertSelfAttention(\n",
              "              (query): Linear(in_features=768, out_features=768, bias=True)\n",
              "              (key): Linear(in_features=768, out_features=768, bias=True)\n",
              "              (value): Linear(in_features=768, out_features=768, bias=True)\n",
              "              (dropout): Dropout(p=0.1, inplace=False)\n",
              "            )\n",
              "            (output): BertSelfOutput(\n",
              "              (dense): Linear(in_features=768, out_features=768, bias=True)\n",
              "              (LayerNorm): LayerNorm((768,), eps=1e-12, elementwise_affine=True)\n",
              "              (dropout): Dropout(p=0.1, inplace=False)\n",
              "            )\n",
              "          )\n",
              "          (intermediate): BertIntermediate(\n",
              "            (dense): Linear(in_features=768, out_features=3072, bias=True)\n",
              "          )\n",
              "          (output): BertOutput(\n",
              "            (dense): Linear(in_features=3072, out_features=768, bias=True)\n",
              "            (LayerNorm): LayerNorm((768,), eps=1e-12, elementwise_affine=True)\n",
              "            (dropout): Dropout(p=0.1, inplace=False)\n",
              "          )\n",
              "        )\n",
              "        (7): BertLayer(\n",
              "          (attention): BertAttention(\n",
              "            (self): BertSelfAttention(\n",
              "              (query): Linear(in_features=768, out_features=768, bias=True)\n",
              "              (key): Linear(in_features=768, out_features=768, bias=True)\n",
              "              (value): Linear(in_features=768, out_features=768, bias=True)\n",
              "              (dropout): Dropout(p=0.1, inplace=False)\n",
              "            )\n",
              "            (output): BertSelfOutput(\n",
              "              (dense): Linear(in_features=768, out_features=768, bias=True)\n",
              "              (LayerNorm): LayerNorm((768,), eps=1e-12, elementwise_affine=True)\n",
              "              (dropout): Dropout(p=0.1, inplace=False)\n",
              "            )\n",
              "          )\n",
              "          (intermediate): BertIntermediate(\n",
              "            (dense): Linear(in_features=768, out_features=3072, bias=True)\n",
              "          )\n",
              "          (output): BertOutput(\n",
              "            (dense): Linear(in_features=3072, out_features=768, bias=True)\n",
              "            (LayerNorm): LayerNorm((768,), eps=1e-12, elementwise_affine=True)\n",
              "            (dropout): Dropout(p=0.1, inplace=False)\n",
              "          )\n",
              "        )\n",
              "        (8): BertLayer(\n",
              "          (attention): BertAttention(\n",
              "            (self): BertSelfAttention(\n",
              "              (query): Linear(in_features=768, out_features=768, bias=True)\n",
              "              (key): Linear(in_features=768, out_features=768, bias=True)\n",
              "              (value): Linear(in_features=768, out_features=768, bias=True)\n",
              "              (dropout): Dropout(p=0.1, inplace=False)\n",
              "            )\n",
              "            (output): BertSelfOutput(\n",
              "              (dense): Linear(in_features=768, out_features=768, bias=True)\n",
              "              (LayerNorm): LayerNorm((768,), eps=1e-12, elementwise_affine=True)\n",
              "              (dropout): Dropout(p=0.1, inplace=False)\n",
              "            )\n",
              "          )\n",
              "          (intermediate): BertIntermediate(\n",
              "            (dense): Linear(in_features=768, out_features=3072, bias=True)\n",
              "          )\n",
              "          (output): BertOutput(\n",
              "            (dense): Linear(in_features=3072, out_features=768, bias=True)\n",
              "            (LayerNorm): LayerNorm((768,), eps=1e-12, elementwise_affine=True)\n",
              "            (dropout): Dropout(p=0.1, inplace=False)\n",
              "          )\n",
              "        )\n",
              "        (9): BertLayer(\n",
              "          (attention): BertAttention(\n",
              "            (self): BertSelfAttention(\n",
              "              (query): Linear(in_features=768, out_features=768, bias=True)\n",
              "              (key): Linear(in_features=768, out_features=768, bias=True)\n",
              "              (value): Linear(in_features=768, out_features=768, bias=True)\n",
              "              (dropout): Dropout(p=0.1, inplace=False)\n",
              "            )\n",
              "            (output): BertSelfOutput(\n",
              "              (dense): Linear(in_features=768, out_features=768, bias=True)\n",
              "              (LayerNorm): LayerNorm((768,), eps=1e-12, elementwise_affine=True)\n",
              "              (dropout): Dropout(p=0.1, inplace=False)\n",
              "            )\n",
              "          )\n",
              "          (intermediate): BertIntermediate(\n",
              "            (dense): Linear(in_features=768, out_features=3072, bias=True)\n",
              "          )\n",
              "          (output): BertOutput(\n",
              "            (dense): Linear(in_features=3072, out_features=768, bias=True)\n",
              "            (LayerNorm): LayerNorm((768,), eps=1e-12, elementwise_affine=True)\n",
              "            (dropout): Dropout(p=0.1, inplace=False)\n",
              "          )\n",
              "        )\n",
              "        (10): BertLayer(\n",
              "          (attention): BertAttention(\n",
              "            (self): BertSelfAttention(\n",
              "              (query): Linear(in_features=768, out_features=768, bias=True)\n",
              "              (key): Linear(in_features=768, out_features=768, bias=True)\n",
              "              (value): Linear(in_features=768, out_features=768, bias=True)\n",
              "              (dropout): Dropout(p=0.1, inplace=False)\n",
              "            )\n",
              "            (output): BertSelfOutput(\n",
              "              (dense): Linear(in_features=768, out_features=768, bias=True)\n",
              "              (LayerNorm): LayerNorm((768,), eps=1e-12, elementwise_affine=True)\n",
              "              (dropout): Dropout(p=0.1, inplace=False)\n",
              "            )\n",
              "          )\n",
              "          (intermediate): BertIntermediate(\n",
              "            (dense): Linear(in_features=768, out_features=3072, bias=True)\n",
              "          )\n",
              "          (output): BertOutput(\n",
              "            (dense): Linear(in_features=3072, out_features=768, bias=True)\n",
              "            (LayerNorm): LayerNorm((768,), eps=1e-12, elementwise_affine=True)\n",
              "            (dropout): Dropout(p=0.1, inplace=False)\n",
              "          )\n",
              "        )\n",
              "        (11): BertLayer(\n",
              "          (attention): BertAttention(\n",
              "            (self): BertSelfAttention(\n",
              "              (query): Linear(in_features=768, out_features=768, bias=True)\n",
              "              (key): Linear(in_features=768, out_features=768, bias=True)\n",
              "              (value): Linear(in_features=768, out_features=768, bias=True)\n",
              "              (dropout): Dropout(p=0.1, inplace=False)\n",
              "            )\n",
              "            (output): BertSelfOutput(\n",
              "              (dense): Linear(in_features=768, out_features=768, bias=True)\n",
              "              (LayerNorm): LayerNorm((768,), eps=1e-12, elementwise_affine=True)\n",
              "              (dropout): Dropout(p=0.1, inplace=False)\n",
              "            )\n",
              "          )\n",
              "          (intermediate): BertIntermediate(\n",
              "            (dense): Linear(in_features=768, out_features=3072, bias=True)\n",
              "          )\n",
              "          (output): BertOutput(\n",
              "            (dense): Linear(in_features=3072, out_features=768, bias=True)\n",
              "            (LayerNorm): LayerNorm((768,), eps=1e-12, elementwise_affine=True)\n",
              "            (dropout): Dropout(p=0.1, inplace=False)\n",
              "          )\n",
              "        )\n",
              "      )\n",
              "    )\n",
              "    (pooler): BertPooler(\n",
              "      (dense): Linear(in_features=768, out_features=768, bias=True)\n",
              "      (activation): Tanh()\n",
              "    )\n",
              "  )\n",
              "  (dropout): Dropout(p=0.1, inplace=False)\n",
              "  (classifier): Linear(in_features=768, out_features=2, bias=True)\n",
              ")"
            ]
          },
          "metadata": {
            "tags": []
          },
          "execution_count": 27
        }
      ]
    },
    {
      "cell_type": "markdown",
      "metadata": {
        "id": "e0Jv6c7-HHDW",
        "colab_type": "text"
      },
      "source": [
        "Just for curiosity's sake, we can browse all of the model's parameters by name here.\n",
        "\n",
        "In the below cell, I've printed out the names and dimensions of the weights for:\n",
        "\n",
        "1. The embedding layer.\n",
        "2. The first of the twelve transformers.\n",
        "3. The output layer.\n",
        "\n",
        "\n"
      ]
    },
    {
      "cell_type": "code",
      "metadata": {
        "id": "8PIiVlDYCtSq",
        "colab_type": "code",
        "colab": {
          "base_uri": "https://localhost:8080/",
          "height": 612
        },
        "outputId": "26aa175e-3088-49c3-97b2-82bd37668adb"
      },
      "source": [
        "# Get all of the model's parameters as a list of tuples.\n",
        "params = list(model.named_parameters())\n",
        "\n",
        "print('The BERT model has {:} different named parameters.\\n'.format(len(params)))\n",
        "\n",
        "print('==== Embedding Layer ====\\n')\n",
        "\n",
        "for p in params[0:5]:\n",
        "    print(\"{:<55} {:>12}\".format(p[0], str(tuple(p[1].size()))))\n",
        "\n",
        "print('\\n==== First Transformer ====\\n')\n",
        "\n",
        "for p in params[5:21]:\n",
        "    print(\"{:<55} {:>12}\".format(p[0], str(tuple(p[1].size()))))\n",
        "\n",
        "print('\\n==== Output Layer ====\\n')\n",
        "\n",
        "for p in params[-4:]:\n",
        "    print(\"{:<55} {:>12}\".format(p[0], str(tuple(p[1].size()))))"
      ],
      "execution_count": 28,
      "outputs": [
        {
          "output_type": "stream",
          "text": [
            "The BERT model has 201 different named parameters.\n",
            "\n",
            "==== Embedding Layer ====\n",
            "\n",
            "bert.embeddings.word_embeddings.weight                  (30522, 768)\n",
            "bert.embeddings.position_embeddings.weight                (512, 768)\n",
            "bert.embeddings.token_type_embeddings.weight                (2, 768)\n",
            "bert.embeddings.LayerNorm.weight                              (768,)\n",
            "bert.embeddings.LayerNorm.bias                                (768,)\n",
            "\n",
            "==== First Transformer ====\n",
            "\n",
            "bert.encoder.layer.0.attention.self.query.weight          (768, 768)\n",
            "bert.encoder.layer.0.attention.self.query.bias                (768,)\n",
            "bert.encoder.layer.0.attention.self.key.weight            (768, 768)\n",
            "bert.encoder.layer.0.attention.self.key.bias                  (768,)\n",
            "bert.encoder.layer.0.attention.self.value.weight          (768, 768)\n",
            "bert.encoder.layer.0.attention.self.value.bias                (768,)\n",
            "bert.encoder.layer.0.attention.output.dense.weight        (768, 768)\n",
            "bert.encoder.layer.0.attention.output.dense.bias              (768,)\n",
            "bert.encoder.layer.0.attention.output.LayerNorm.weight        (768,)\n",
            "bert.encoder.layer.0.attention.output.LayerNorm.bias          (768,)\n",
            "bert.encoder.layer.0.intermediate.dense.weight           (3072, 768)\n",
            "bert.encoder.layer.0.intermediate.dense.bias                 (3072,)\n",
            "bert.encoder.layer.0.output.dense.weight                 (768, 3072)\n",
            "bert.encoder.layer.0.output.dense.bias                        (768,)\n",
            "bert.encoder.layer.0.output.LayerNorm.weight                  (768,)\n",
            "bert.encoder.layer.0.output.LayerNorm.bias                    (768,)\n",
            "\n",
            "==== Output Layer ====\n",
            "\n",
            "bert.pooler.dense.weight                                  (768, 768)\n",
            "bert.pooler.dense.bias                                        (768,)\n",
            "classifier.weight                                           (2, 768)\n",
            "classifier.bias                                                 (2,)\n"
          ],
          "name": "stdout"
        }
      ]
    },
    {
      "cell_type": "markdown",
      "metadata": {
        "id": "qRWT-D4U_Pvx",
        "colab_type": "text"
      },
      "source": [
        "## 4.2. Optimizer & Learning Rate Scheduler"
      ]
    },
    {
      "cell_type": "markdown",
      "metadata": {
        "id": "8o-VEBobKwHk",
        "colab_type": "text"
      },
      "source": [
        "Now that we have our model loaded we need to grab the training hyperparameters from within the stored model.\n",
        "\n",
        "For the purposes of fine-tuning, the authors recommend choosing from the following values:\n",
        "- Batch size: 16, 32  (We chose 32 when creating our DataLoaders).\n",
        "- Learning rate (Adam): 5e-5, 3e-5, 2e-5  (We'll use 2e-5).\n",
        "- Number of epochs: 2, 3, 4  (We'll use 4).\n",
        "\n",
        "The epsilon parameter `eps = 1e-8` is \"a very small number to prevent any division by zero in the implementation\" (from [here](https://machinelearningmastery.com/adam-optimization-algorithm-for-deep-learning/)).\n",
        "\n",
        "You can find the creation of the AdamW optimizer in `run_glue.py` [here](https://github.com/huggingface/transformers/blob/5bfcd0485ece086ebcbed2d008813037968a9e58/examples/run_glue.py#L109)."
      ]
    },
    {
      "cell_type": "code",
      "metadata": {
        "id": "GLs72DuMODJO",
        "colab_type": "code",
        "colab": {}
      },
      "source": [
        "# Note: AdamW is a class from the huggingface library (as opposed to pytorch) \n",
        "# I believe the 'W' stands for 'Weight Decay fix\"\n",
        "optimizer = AdamW(model.parameters(),\n",
        "                  lr = 2e-5, # args.learning_rate - default is 5e-5, our notebook had 2e-5\n",
        "                  eps = 1e-8 # args.adam_epsilon  - default is 1e-8.\n",
        "                )\n"
      ],
      "execution_count": 29,
      "outputs": []
    },
    {
      "cell_type": "code",
      "metadata": {
        "id": "-p0upAhhRiIx",
        "colab_type": "code",
        "colab": {
          "base_uri": "https://localhost:8080/",
          "height": 34
        },
        "outputId": "8cd6f4bb-e6e5-46e7-f60b-25f6f7f04ff6"
      },
      "source": [
        "from transformers import get_linear_schedule_with_warmup\n",
        "\n",
        "# Number of training epochs (authors recommend between 2 and 4)\n",
        "epochs = 4\n",
        "\n",
        "# Total number of training steps is number of batches * number of epochs.\n",
        "total_steps = len(train_dataloader) * epochs\n",
        "\n",
        "# Create the learning rate scheduler.\n",
        "scheduler = get_linear_schedule_with_warmup(optimizer, \n",
        "                                            num_warmup_steps = 0, # Default value in run_glue.py\n",
        "                                            num_training_steps = total_steps)\n",
        "scheduler"
      ],
      "execution_count": 31,
      "outputs": [
        {
          "output_type": "execute_result",
          "data": {
            "text/plain": [
              "<torch.optim.lr_scheduler.LambdaLR at 0x7f159a76cef0>"
            ]
          },
          "metadata": {
            "tags": []
          },
          "execution_count": 31
        }
      ]
    },
    {
      "cell_type": "markdown",
      "metadata": {
        "id": "RqfmWwUR_Sox",
        "colab_type": "text"
      },
      "source": [
        "## 4.3. Training Loop"
      ]
    },
    {
      "cell_type": "markdown",
      "metadata": {
        "id": "_QXZhFb4LnV5",
        "colab_type": "text"
      },
      "source": [
        "Below is our training loop. There's a lot going on, but fundamentally for each pass in our loop we have a trianing phase and a validation phase. At each pass we need to:\n",
        "\n",
        "Training loop:\n",
        "- Unpack our data inputs and labels\n",
        "- Load data onto the GPU for acceleration\n",
        "- Clear out the gradients calculated in the previous pass. \n",
        "    - In pytorch the gradients accumulate by default (useful for things like RNNs) unless you explicitly clear them out.\n",
        "- Forward pass (feed input data through the network)\n",
        "- Backward pass (backpropagation)\n",
        "- Tell the network to update parameters with optimizer.step()\n",
        "- Track variables for monitoring progress\n",
        "\n",
        "Evalution loop:\n",
        "- Unpack our data inputs and labels\n",
        "- Load data onto the GPU for acceleration\n",
        "- Forward pass (feed input data through the network)\n",
        "- Compute loss on our validation data and track variables for monitoring progress\n",
        "\n",
        "So please read carefully through the comments to get an understanding of what's happening. If you're unfamiliar with pytorch a quick look at some of their [beginner tutorials](https://pytorch.org/tutorials/beginner/blitz/cifar10_tutorial.html#sphx-glr-beginner-blitz-cifar10-tutorial-py) will help show you that training loops really involve only a few simple steps; the rest is usually just decoration and logging.  "
      ]
    },
    {
      "cell_type": "markdown",
      "metadata": {
        "id": "pE5B99H5H2-W",
        "colab_type": "text"
      },
      "source": [
        "Define a helper function for calculating accuracy."
      ]
    },
    {
      "cell_type": "code",
      "metadata": {
        "id": "9cQNvaZ9bnyy",
        "colab_type": "code",
        "colab": {}
      },
      "source": [
        "import numpy as np\n",
        "\n",
        "# Function to calculate the accuracy of our predictions vs labels\n",
        "def flat_accuracy(preds, labels):\n",
        "    pred_flat = np.argmax(preds, axis=1).flatten()\n",
        "    labels_flat = labels.flatten()\n",
        "    return np.sum(pred_flat == labels_flat) / len(labels_flat)"
      ],
      "execution_count": 32,
      "outputs": []
    },
    {
      "cell_type": "markdown",
      "metadata": {
        "id": "KNhRtWPXH9C3",
        "colab_type": "text"
      },
      "source": [
        "Helper function for formatting elapsed times.\n"
      ]
    },
    {
      "cell_type": "code",
      "metadata": {
        "id": "gpt6tR83keZD",
        "colab_type": "code",
        "colab": {}
      },
      "source": [
        "import time\n",
        "import datetime\n",
        "\n",
        "def format_time(elapsed):\n",
        "    '''\n",
        "    Takes a time in seconds and returns a string hh:mm:ss\n",
        "    '''\n",
        "    # Round to the nearest second.\n",
        "    elapsed_rounded = int(round((elapsed)))\n",
        "    \n",
        "    # Format as hh:mm:ss\n",
        "    return str(datetime.timedelta(seconds=elapsed_rounded))\n"
      ],
      "execution_count": 33,
      "outputs": []
    },
    {
      "cell_type": "markdown",
      "metadata": {
        "id": "cfNIhN19te3N",
        "colab_type": "text"
      },
      "source": [
        "We're ready to kick off the training!"
      ]
    },
    {
      "cell_type": "code",
      "metadata": {
        "id": "6J-FYdx6nFE_",
        "colab_type": "code",
        "colab": {
          "base_uri": "https://localhost:8080/",
          "height": 1000
        },
        "outputId": "2aa3a5ce-17b6-4105-c58f-204e10007b16"
      },
      "source": [
        "import random\n",
        "\n",
        "# This training code is based on the `run_glue.py` script here:\n",
        "# https://github.com/huggingface/transformers/blob/5bfcd0485ece086ebcbed2d008813037968a9e58/examples/run_glue.py#L128\n",
        "\n",
        "\n",
        "# Set the seed value all over the place to make this reproducible.\n",
        "seed_val = 42\n",
        "\n",
        "random.seed(seed_val)\n",
        "np.random.seed(seed_val)\n",
        "torch.manual_seed(seed_val)\n",
        "torch.cuda.manual_seed_all(seed_val)\n",
        "\n",
        "# Store the average loss after each epoch so we can plot them.\n",
        "loss_values = []\n",
        "\n",
        "# For each epoch...\n",
        "for epoch_i in range(0, epochs):\n",
        "    \n",
        "    # ========================================\n",
        "    #               Training\n",
        "    # ========================================\n",
        "    \n",
        "    # Perform one full pass over the training set.\n",
        "\n",
        "    print(\"\")\n",
        "    print('======== Epoch {:} / {:} ========'.format(epoch_i + 1, epochs))\n",
        "    print('Training...')\n",
        "\n",
        "    # Measure how long the training epoch takes.\n",
        "    t0 = time.time()\n",
        "\n",
        "    # Reset the total loss for this epoch.\n",
        "    total_loss = 0\n",
        "\n",
        "    # Put the model into training mode. Don't be mislead--the call to \n",
        "    # `train` just changes the *mode*, it doesn't *perform* the training.\n",
        "    # `dropout` and `batchnorm` layers behave differently during training\n",
        "    # vs. test (source: https://stackoverflow.com/questions/51433378/what-does-model-train-do-in-pytorch)\n",
        "    model.train()\n",
        "\n",
        "    # For each batch of training data...\n",
        "    for step, batch in enumerate(train_dataloader):\n",
        "\n",
        "        # Progress update every 40 batches.\n",
        "        if step % 40 == 0 and not step == 0:\n",
        "            # Calculate elapsed time in minutes.\n",
        "            elapsed = format_time(time.time() - t0)\n",
        "            \n",
        "            # Report progress.\n",
        "            print('  Batch {:>5,}  of  {:>5,}.    Elapsed: {:}.'.format(step, len(train_dataloader), elapsed))\n",
        "\n",
        "        # Unpack this training batch from our dataloader. \n",
        "        #\n",
        "        # As we unpack the batch, we'll also copy each tensor to the GPU using the \n",
        "        # `to` method.\n",
        "        #\n",
        "        # `batch` contains three pytorch tensors:\n",
        "        #   [0]: input ids \n",
        "        #   [1]: attention masks\n",
        "        #   [2]: labels \n",
        "        b_input_ids = batch[0].to(device)\n",
        "        b_input_mask = batch[1].to(device)\n",
        "        b_labels = batch[2].to(device)\n",
        "\n",
        "        # Always clear any previously calculated gradients before performing a\n",
        "        # backward pass. PyTorch doesn't do this automatically because \n",
        "        # accumulating the gradients is \"convenient while training RNNs\". \n",
        "        # (source: https://stackoverflow.com/questions/48001598/why-do-we-need-to-call-zero-grad-in-pytorch)\n",
        "        model.zero_grad()        \n",
        "\n",
        "        # Perform a forward pass (evaluate the model on this training batch).\n",
        "        # This will return the loss (rather than the model output) because we\n",
        "        # have provided the `labels`.\n",
        "        # The documentation for this `model` function is here: \n",
        "        # https://huggingface.co/transformers/v2.2.0/model_doc/bert.html#transformers.BertForSequenceClassification\n",
        "        outputs = model(b_input_ids, \n",
        "                    token_type_ids=None, \n",
        "                    attention_mask=b_input_mask, \n",
        "                    labels=b_labels)\n",
        "        \n",
        "        # The call to `model` always returns a tuple, so we need to pull the \n",
        "        # loss value out of the tuple.\n",
        "        loss = outputs[0]\n",
        "\n",
        "        # Accumulate the training loss over all of the batches so that we can\n",
        "        # calculate the average loss at the end. `loss` is a Tensor containing a\n",
        "        # single value; the `.item()` function just returns the Python value \n",
        "        # from the tensor.\n",
        "        total_loss += loss.item()\n",
        "\n",
        "        # Perform a backward pass to calculate the gradients.\n",
        "        loss.backward()\n",
        "\n",
        "        # Clip the norm of the gradients to 1.0.\n",
        "        # This is to help prevent the \"exploding gradients\" problem.\n",
        "        torch.nn.utils.clip_grad_norm_(model.parameters(), 1.0)\n",
        "\n",
        "        # Update parameters and take a step using the computed gradient.\n",
        "        # The optimizer dictates the \"update rule\"--how the parameters are\n",
        "        # modified based on their gradients, the learning rate, etc.\n",
        "        optimizer.step()\n",
        "\n",
        "        # Update the learning rate.\n",
        "        scheduler.step()\n",
        "\n",
        "    # Calculate the average loss over the training data.\n",
        "    avg_train_loss = total_loss / len(train_dataloader)            \n",
        "    \n",
        "    # Store the loss value for plotting the learning curve.\n",
        "    loss_values.append(avg_train_loss)\n",
        "\n",
        "    print(\"\")\n",
        "    print(\"  Average training loss: {0:.2f}\".format(avg_train_loss))\n",
        "    print(\"  Training epcoh took: {:}\".format(format_time(time.time() - t0)))\n",
        "        \n",
        "    # ========================================\n",
        "    #               Validation\n",
        "    # ========================================\n",
        "    # After the completion of each training epoch, measure our performance on\n",
        "    # our validation set.\n",
        "\n",
        "    print(\"\")\n",
        "    print(\"Running Validation...\")\n",
        "\n",
        "    t0 = time.time()\n",
        "\n",
        "    # Put the model in evaluation mode--the dropout layers behave differently\n",
        "    # during evaluation.\n",
        "    model.eval()\n",
        "\n",
        "    # Tracking variables \n",
        "    eval_loss, eval_accuracy = 0, 0\n",
        "    nb_eval_steps, nb_eval_examples = 0, 0\n",
        "\n",
        "    # Evaluate data for one epoch\n",
        "    for batch in validation_dataloader:\n",
        "        \n",
        "        # Add batch to GPU\n",
        "        batch = tuple(t.to(device) for t in batch)\n",
        "        \n",
        "        # Unpack the inputs from our dataloader\n",
        "        b_input_ids, b_input_mask, b_labels = batch\n",
        "        \n",
        "        # Telling the model not to compute or store gradients, saving memory and\n",
        "        # speeding up validation\n",
        "        with torch.no_grad():        \n",
        "\n",
        "            # Forward pass, calculate logit predictions.\n",
        "            # This will return the logits rather than the loss because we have\n",
        "            # not provided labels.\n",
        "            # token_type_ids is the same as the \"segment ids\", which \n",
        "            # differentiates sentence 1 and 2 in 2-sentence tasks.\n",
        "            # The documentation for this `model` function is here: \n",
        "            # https://huggingface.co/transformers/v2.2.0/model_doc/bert.html#transformers.BertForSequenceClassification\n",
        "            outputs = model(b_input_ids, \n",
        "                            token_type_ids=None, \n",
        "                            attention_mask=b_input_mask)\n",
        "        \n",
        "        # Get the \"logits\" output by the model. The \"logits\" are the output\n",
        "        # values prior to applying an activation function like the softmax.\n",
        "        logits = outputs[0]\n",
        "\n",
        "        # Move logits and labels to CPU\n",
        "        logits = logits.detach().cpu().numpy()\n",
        "        label_ids = b_labels.to('cpu').numpy()\n",
        "        \n",
        "        # Calculate the accuracy for this batch of test sentences.\n",
        "        tmp_eval_accuracy = flat_accuracy(logits, label_ids)\n",
        "        \n",
        "        # Accumulate the total accuracy.\n",
        "        eval_accuracy += tmp_eval_accuracy\n",
        "\n",
        "        # Track the number of batches\n",
        "        nb_eval_steps += 1\n",
        "\n",
        "    # Report the final accuracy for this validation run.\n",
        "    print(\"  Accuracy: {0:.2f}\".format(eval_accuracy/nb_eval_steps))\n",
        "    print(\"  Validation took: {:}\".format(format_time(time.time() - t0)))\n",
        "\n",
        "print(\"\")\n",
        "print(\"Training complete!\")"
      ],
      "execution_count": 34,
      "outputs": [
        {
          "output_type": "stream",
          "text": [
            "\n",
            "======== Epoch 1 / 4 ========\n",
            "Training...\n",
            "  Batch    40  of    241.    Elapsed: 0:00:28.\n",
            "  Batch    80  of    241.    Elapsed: 0:00:56.\n",
            "  Batch   120  of    241.    Elapsed: 0:01:24.\n",
            "  Batch   160  of    241.    Elapsed: 0:01:52.\n",
            "  Batch   200  of    241.    Elapsed: 0:02:20.\n",
            "  Batch   240  of    241.    Elapsed: 0:02:48.\n",
            "\n",
            "  Average training loss: 0.51\n",
            "  Training epcoh took: 0:02:48\n",
            "\n",
            "Running Validation...\n",
            "  Accuracy: 0.77\n",
            "  Validation took: 0:00:06\n",
            "\n",
            "======== Epoch 2 / 4 ========\n",
            "Training...\n",
            "  Batch    40  of    241.    Elapsed: 0:00:28.\n",
            "  Batch    80  of    241.    Elapsed: 0:00:56.\n",
            "  Batch   120  of    241.    Elapsed: 0:01:23.\n",
            "  Batch   160  of    241.    Elapsed: 0:01:51.\n",
            "  Batch   200  of    241.    Elapsed: 0:02:19.\n",
            "  Batch   240  of    241.    Elapsed: 0:02:47.\n",
            "\n",
            "  Average training loss: 0.34\n",
            "  Training epcoh took: 0:02:47\n",
            "\n",
            "Running Validation...\n",
            "  Accuracy: 0.82\n",
            "  Validation took: 0:00:06\n",
            "\n",
            "======== Epoch 3 / 4 ========\n",
            "Training...\n",
            "  Batch    40  of    241.    Elapsed: 0:00:28.\n",
            "  Batch    80  of    241.    Elapsed: 0:00:56.\n",
            "  Batch   120  of    241.    Elapsed: 0:01:23.\n",
            "  Batch   160  of    241.    Elapsed: 0:01:51.\n",
            "  Batch   200  of    241.    Elapsed: 0:02:19.\n",
            "  Batch   240  of    241.    Elapsed: 0:02:46.\n",
            "\n",
            "  Average training loss: 0.22\n",
            "  Training epcoh took: 0:02:47\n",
            "\n",
            "Running Validation...\n",
            "  Accuracy: 0.81\n",
            "  Validation took: 0:00:06\n",
            "\n",
            "======== Epoch 4 / 4 ========\n",
            "Training...\n",
            "  Batch    40  of    241.    Elapsed: 0:00:28.\n",
            "  Batch    80  of    241.    Elapsed: 0:00:55.\n",
            "  Batch   120  of    241.    Elapsed: 0:01:23.\n",
            "  Batch   160  of    241.    Elapsed: 0:01:51.\n",
            "  Batch   200  of    241.    Elapsed: 0:02:18.\n",
            "  Batch   240  of    241.    Elapsed: 0:02:46.\n",
            "\n",
            "  Average training loss: 0.15\n",
            "  Training epcoh took: 0:02:46\n",
            "\n",
            "Running Validation...\n",
            "  Accuracy: 0.81\n",
            "  Validation took: 0:00:06\n",
            "\n",
            "Training complete!\n"
          ],
          "name": "stdout"
        }
      ]
    },
    {
      "cell_type": "markdown",
      "metadata": {
        "id": "1-G03mmwH3aI",
        "colab_type": "text"
      },
      "source": [
        "Let's take a look at our training loss over all batches:"
      ]
    },
    {
      "cell_type": "code",
      "metadata": {
        "id": "68xreA9JAmG5",
        "colab_type": "code",
        "colab": {
          "base_uri": "https://localhost:8080/",
          "height": 481
        },
        "outputId": "4b8c33ae-bf3f-42a0-c5e8-95fd4cc3d062"
      },
      "source": [
        "import matplotlib.pyplot as plt\n",
        "% matplotlib inline\n",
        "\n",
        "import seaborn as sns\n",
        "\n",
        "# Use plot styling from seaborn.\n",
        "sns.set(style='darkgrid')\n",
        "\n",
        "# Increase the plot size and font size.\n",
        "sns.set(font_scale=1.5)\n",
        "plt.rcParams[\"figure.figsize\"] = (12,6)\n",
        "\n",
        "# Plot the learning curve.\n",
        "plt.plot(loss_values, 'b-o')\n",
        "\n",
        "# Label the plot.\n",
        "plt.title(\"Training loss\")\n",
        "plt.xlabel(\"Epoch\")\n",
        "plt.ylabel(\"Loss\")\n",
        "\n",
        "plt.show()"
      ],
      "execution_count": 35,
      "outputs": [
        {
          "output_type": "stream",
          "text": [
            "/usr/local/lib/python3.6/dist-packages/statsmodels/tools/_testing.py:19: FutureWarning: pandas.util.testing is deprecated. Use the functions in the public API at pandas.testing instead.\n",
            "  import pandas.util.testing as tm\n"
          ],
          "name": "stderr"
        },
        {
          "output_type": "display_data",
          "data": {
            "image/png": "[encoded data removed]",
            "text/plain": [
              "<Figure size 864x432 with 1 Axes>"
            ]
          },
          "metadata": {
            "tags": []
          }
        }
      ]
    },
    {
      "cell_type": "code",
      "metadata": {
        "id": "btUsZ5vMyjwt",
        "colab_type": "code",
        "colab": {
          "base_uri": "https://localhost:8080/",
          "height": 85
        },
        "outputId": "fa600786-ae6f-4539-98fe-c8fa60c1e7b7"
      },
      "source": [
        "loss_values"
      ],
      "execution_count": null,
      "outputs": [
        {
          "output_type": "execute_result",
          "data": {
            "text/plain": [
              "[0.49451232209987167,\n",
              " 0.3004320070796735,\n",
              " 0.1879279644719298,\n",
              " 0.12569620186671676]"
            ]
          },
          "metadata": {
            "tags": []
          },
          "execution_count": 29
        }
      ]
    },
    {
      "cell_type": "code",
      "metadata": {
        "id": "yYMkUD05yHQu",
        "colab_type": "code",
        "colab": {
          "base_uri": "https://localhost:8080/",
          "height": 542
        },
        "outputId": "7b400b25-3430-4e6f-e74e-465b56c47e70"
      },
      "source": [
        "import plotly.express as px\n",
        "\n",
        "f = pd.DataFrame(loss_values)\n",
        "f.columns=['Loss']\n",
        "fig = px.line(f, x=f.index, y=f.Loss)\n",
        "fig.update_layout(title='Training loss of the Model',\n",
        "                   xaxis_title='Epoch',\n",
        "                   yaxis_title='Loss')\n",
        "fig.show()"
      ],
      "execution_count": 36,
      "outputs": [
        {
          "output_type": "display_data",
          "data": {
            "text/html": [
              "<html>\n",
              "<head><meta charset=\"utf-8\" /></head>\n",
              "<body>\n",
              "    <div>\n",
              "            <script src=\"https://cdnjs.cloudflare.com/ajax/libs/mathjax/2.7.5/MathJax.js?config=TeX-AMS-MML_SVG\"></script><script type=\"text/javascript\">if (window.MathJax) {MathJax.Hub.Config({SVG: {font: \"STIX-Web\"}});}</script>\n",
              "                <script type=\"text/javascript\">window.PlotlyConfig = {MathJaxConfig: 'local'};</script>\n",
              "        <script src=\"https://cdn.plot.ly/plotly-latest.min.js\"></script>    \n",
              "            <div id=\"6958d75d-4d43-4649-9019-7c32722c50e2\" class=\"plotly-graph-div\" style=\"height:525px; width:100%;\"></div>\n",
              "            <script type=\"text/javascript\">\n",
              "                \n",
              "                    window.PLOTLYENV=window.PLOTLYENV || {};\n",
              "                    \n",
              "                if (document.getElementById(\"6958d75d-4d43-4649-9019-7c32722c50e2\")) {\n",
              "                    Plotly.newPlot(\n",
              "                        '6958d75d-4d43-4649-9019-7c32722c50e2',\n",
              "                        [{\"hoverlabel\": {\"namelength\": 0}, \"hovertemplate\": \"index=%{x}<br>Loss=%{y}\", \"legendgroup\": \"\", \"line\": {\"color\": \"#636efa\", \"dash\": \"solid\"}, \"mode\": \"lines\", \"name\": \"\", \"showlegend\": false, \"type\": \"scatter\", \"x\": [0, 1, 2, 3], \"xaxis\": \"x\", \"y\": [0.5137950775534286, 0.335229573284442, 0.2164291700819716, 0.14699667097065458], \"yaxis\": \"y\"}],\n",
              "                        {\"legend\": {\"tracegroupgap\": 0}, \"margin\": {\"t\": 60}, \"template\": {\"data\": {\"bar\": [{\"error_x\": {\"color\": \"#2a3f5f\"}, \"error_y\": {\"color\": \"#2a3f5f\"}, \"marker\": {\"line\": {\"color\": \"#E5ECF6\", \"width\": 0.5}}, \"type\": \"bar\"}], \"barpolar\": [{\"marker\": {\"line\": {\"color\": \"#E5ECF6\", \"width\": 0.5}}, \"type\": \"barpolar\"}], \"carpet\": [{\"aaxis\": {\"endlinecolor\": \"#2a3f5f\", \"gridcolor\": \"white\", \"linecolor\": \"white\", \"minorgridcolor\": \"white\", \"startlinecolor\": \"#2a3f5f\"}, \"baxis\": {\"endlinecolor\": \"#2a3f5f\", \"gridcolor\": \"white\", \"linecolor\": \"white\", \"minorgridcolor\": \"white\", \"startlinecolor\": \"#2a3f5f\"}, \"type\": \"carpet\"}], \"choropleth\": [{\"colorbar\": {\"outlinewidth\": 0, \"ticks\": \"\"}, \"type\": \"choropleth\"}], \"contour\": [{\"colorbar\": {\"outlinewidth\": 0, \"ticks\": \"\"}, \"colorscale\": [[0.0, \"#0d0887\"], [0.1111111111111111, \"#46039f\"], [0.2222222222222222, \"#7201a8\"], [0.3333333333333333, \"#9c179e\"], [0.4444444444444444, \"#bd3786\"], [0.5555555555555556, \"#d8576b\"], [0.6666666666666666, \"#ed7953\"], [0.7777777777777778, \"#fb9f3a\"], [0.8888888888888888, \"#fdca26\"], [1.0, \"#f0f921\"]], \"type\": \"contour\"}], \"contourcarpet\": [{\"colorbar\": {\"outlinewidth\": 0, \"ticks\": \"\"}, \"type\": \"contourcarpet\"}], \"heatmap\": [{\"colorbar\": {\"outlinewidth\": 0, \"ticks\": \"\"}, \"colorscale\": [[0.0, \"#0d0887\"], [0.1111111111111111, \"#46039f\"], [0.2222222222222222, \"#7201a8\"], [0.3333333333333333, \"#9c179e\"], [0.4444444444444444, \"#bd3786\"], [0.5555555555555556, \"#d8576b\"], [0.6666666666666666, \"#ed7953\"], [0.7777777777777778, \"#fb9f3a\"], [0.8888888888888888, \"#fdca26\"], [1.0, \"#f0f921\"]], \"type\": \"heatmap\"}], \"heatmapgl\": [{\"colorbar\": {\"outlinewidth\": 0, \"ticks\": \"\"}, \"colorscale\": [[0.0, \"#0d0887\"], [0.1111111111111111, \"#46039f\"], [0.2222222222222222, \"#7201a8\"], [0.3333333333333333, \"#9c179e\"], [0.4444444444444444, \"#bd3786\"], [0.5555555555555556, \"#d8576b\"], [0.6666666666666666, \"#ed7953\"], [0.7777777777777778, \"#fb9f3a\"], [0.8888888888888888, \"#fdca26\"], [1.0, \"#f0f921\"]], \"type\": \"heatmapgl\"}], \"histogram\": [{\"marker\": {\"colorbar\": {\"outlinewidth\": 0, \"ticks\": \"\"}}, \"type\": \"histogram\"}], \"histogram2d\": [{\"colorbar\": {\"outlinewidth\": 0, \"ticks\": \"\"}, \"colorscale\": [[0.0, \"#0d0887\"], [0.1111111111111111, \"#46039f\"], [0.2222222222222222, \"#7201a8\"], [0.3333333333333333, \"#9c179e\"], [0.4444444444444444, \"#bd3786\"], [0.5555555555555556, \"#d8576b\"], [0.6666666666666666, \"#ed7953\"], [0.7777777777777778, \"#fb9f3a\"], [0.8888888888888888, \"#fdca26\"], [1.0, \"#f0f921\"]], \"type\": \"histogram2d\"}], \"histogram2dcontour\": [{\"colorbar\": {\"outlinewidth\": 0, \"ticks\": \"\"}, \"colorscale\": [[0.0, \"#0d0887\"], [0.1111111111111111, \"#46039f\"], [0.2222222222222222, \"#7201a8\"], [0.3333333333333333, \"#9c179e\"], [0.4444444444444444, \"#bd3786\"], [0.5555555555555556, \"#d8576b\"], [0.6666666666666666, \"#ed7953\"], [0.7777777777777778, \"#fb9f3a\"], [0.8888888888888888, \"#fdca26\"], [1.0, \"#f0f921\"]], \"type\": \"histogram2dcontour\"}], \"mesh3d\": [{\"colorbar\": {\"outlinewidth\": 0, \"ticks\": \"\"}, \"type\": \"mesh3d\"}], \"parcoords\": [{\"line\": {\"colorbar\": {\"outlinewidth\": 0, \"ticks\": \"\"}}, \"type\": \"parcoords\"}], \"pie\": [{\"automargin\": true, \"type\": \"pie\"}], \"scatter\": [{\"marker\": {\"colorbar\": {\"outlinewidth\": 0, \"ticks\": \"\"}}, \"type\": \"scatter\"}], \"scatter3d\": [{\"line\": {\"colorbar\": {\"outlinewidth\": 0, \"ticks\": \"\"}}, \"marker\": {\"colorbar\": {\"outlinewidth\": 0, \"ticks\": \"\"}}, \"type\": \"scatter3d\"}], \"scattercarpet\": [{\"marker\": {\"colorbar\": {\"outlinewidth\": 0, \"ticks\": \"\"}}, \"type\": \"scattercarpet\"}], \"scattergeo\": [{\"marker\": {\"colorbar\": {\"outlinewidth\": 0, \"ticks\": \"\"}}, \"type\": \"scattergeo\"}], \"scattergl\": [{\"marker\": {\"colorbar\": {\"outlinewidth\": 0, \"ticks\": \"\"}}, \"type\": \"scattergl\"}], \"scattermapbox\": [{\"marker\": {\"colorbar\": {\"outlinewidth\": 0, \"ticks\": \"\"}}, \"type\": \"scattermapbox\"}], \"scatterpolar\": [{\"marker\": {\"colorbar\": {\"outlinewidth\": 0, \"ticks\": \"\"}}, \"type\": \"scatterpolar\"}], \"scatterpolargl\": [{\"marker\": {\"colorbar\": {\"outlinewidth\": 0, \"ticks\": \"\"}}, \"type\": \"scatterpolargl\"}], \"scatterternary\": [{\"marker\": {\"colorbar\": {\"outlinewidth\": 0, \"ticks\": \"\"}}, \"type\": \"scatterternary\"}], \"surface\": [{\"colorbar\": {\"outlinewidth\": 0, \"ticks\": \"\"}, \"colorscale\": [[0.0, \"#0d0887\"], [0.1111111111111111, \"#46039f\"], [0.2222222222222222, \"#7201a8\"], [0.3333333333333333, \"#9c179e\"], [0.4444444444444444, \"#bd3786\"], [0.5555555555555556, \"#d8576b\"], [0.6666666666666666, \"#ed7953\"], [0.7777777777777778, \"#fb9f3a\"], [0.8888888888888888, \"#fdca26\"], [1.0, \"#f0f921\"]], \"type\": \"surface\"}], \"table\": [{\"cells\": {\"fill\": {\"color\": \"#EBF0F8\"}, \"line\": {\"color\": \"white\"}}, \"header\": {\"fill\": {\"color\": \"#C8D4E3\"}, \"line\": {\"color\": \"white\"}}, \"type\": \"table\"}]}, \"layout\": {\"annotationdefaults\": {\"arrowcolor\": \"#2a3f5f\", \"arrowhead\": 0, \"arrowwidth\": 1}, \"coloraxis\": {\"colorbar\": {\"outlinewidth\": 0, \"ticks\": \"\"}}, \"colorscale\": {\"diverging\": [[0, \"#8e0152\"], [0.1, \"#c51b7d\"], [0.2, \"#de77ae\"], [0.3, \"#f1b6da\"], [0.4, \"#fde0ef\"], [0.5, \"#f7f7f7\"], [0.6, \"#e6f5d0\"], [0.7, \"#b8e186\"], [0.8, \"#7fbc41\"], [0.9, \"#4d9221\"], [1, \"#276419\"]], \"sequential\": [[0.0, \"#0d0887\"], [0.1111111111111111, \"#46039f\"], [0.2222222222222222, \"#7201a8\"], [0.3333333333333333, \"#9c179e\"], [0.4444444444444444, \"#bd3786\"], [0.5555555555555556, \"#d8576b\"], [0.6666666666666666, \"#ed7953\"], [0.7777777777777778, \"#fb9f3a\"], [0.8888888888888888, \"#fdca26\"], [1.0, \"#f0f921\"]], \"sequentialminus\": [[0.0, \"#0d0887\"], [0.1111111111111111, \"#46039f\"], [0.2222222222222222, \"#7201a8\"], [0.3333333333333333, \"#9c179e\"], [0.4444444444444444, \"#bd3786\"], [0.5555555555555556, \"#d8576b\"], [0.6666666666666666, \"#ed7953\"], [0.7777777777777778, \"#fb9f3a\"], [0.8888888888888888, \"#fdca26\"], [1.0, \"#f0f921\"]]}, \"colorway\": [\"#636efa\", \"#EF553B\", \"#00cc96\", \"#ab63fa\", \"#FFA15A\", \"#19d3f3\", \"#FF6692\", \"#B6E880\", \"#FF97FF\", \"#FECB52\"], \"font\": {\"color\": \"#2a3f5f\"}, \"geo\": {\"bgcolor\": \"white\", \"lakecolor\": \"white\", \"landcolor\": \"#E5ECF6\", \"showlakes\": true, \"showland\": true, \"subunitcolor\": \"white\"}, \"hoverlabel\": {\"align\": \"left\"}, \"hovermode\": \"closest\", \"mapbox\": {\"style\": \"light\"}, \"paper_bgcolor\": \"white\", \"plot_bgcolor\": \"#E5ECF6\", \"polar\": {\"angularaxis\": {\"gridcolor\": \"white\", \"linecolor\": \"white\", \"ticks\": \"\"}, \"bgcolor\": \"#E5ECF6\", \"radialaxis\": {\"gridcolor\": \"white\", \"linecolor\": \"white\", \"ticks\": \"\"}}, \"scene\": {\"xaxis\": {\"backgroundcolor\": \"#E5ECF6\", \"gridcolor\": \"white\", \"gridwidth\": 2, \"linecolor\": \"white\", \"showbackground\": true, \"ticks\": \"\", \"zerolinecolor\": \"white\"}, \"yaxis\": {\"backgroundcolor\": \"#E5ECF6\", \"gridcolor\": \"white\", \"gridwidth\": 2, \"linecolor\": \"white\", \"showbackground\": true, \"ticks\": \"\", \"zerolinecolor\": \"white\"}, \"zaxis\": {\"backgroundcolor\": \"#E5ECF6\", \"gridcolor\": \"white\", \"gridwidth\": 2, \"linecolor\": \"white\", \"showbackground\": true, \"ticks\": \"\", \"zerolinecolor\": \"white\"}}, \"shapedefaults\": {\"line\": {\"color\": \"#2a3f5f\"}}, \"ternary\": {\"aaxis\": {\"gridcolor\": \"white\", \"linecolor\": \"white\", \"ticks\": \"\"}, \"baxis\": {\"gridcolor\": \"white\", \"linecolor\": \"white\", \"ticks\": \"\"}, \"bgcolor\": \"#E5ECF6\", \"caxis\": {\"gridcolor\": \"white\", \"linecolor\": \"white\", \"ticks\": \"\"}}, \"title\": {\"x\": 0.05}, \"xaxis\": {\"automargin\": true, \"gridcolor\": \"white\", \"linecolor\": \"white\", \"ticks\": \"\", \"title\": {\"standoff\": 15}, \"zerolinecolor\": \"white\", \"zerolinewidth\": 2}, \"yaxis\": {\"automargin\": true, \"gridcolor\": \"white\", \"linecolor\": \"white\", \"ticks\": \"\", \"title\": {\"standoff\": 15}, \"zerolinecolor\": \"white\", \"zerolinewidth\": 2}}}, \"title\": {\"text\": \"Training loss of the Model\"}, \"xaxis\": {\"anchor\": \"y\", \"domain\": [0.0, 1.0], \"title\": {\"text\": \"Epoch\"}}, \"yaxis\": {\"anchor\": \"x\", \"domain\": [0.0, 1.0], \"title\": {\"text\": \"Loss\"}}},\n",
              "                        {\"responsive\": true}\n",
              "                    ).then(function(){\n",
              "                            \n",
              "var gd = document.getElementById('6958d75d-4d43-4649-9019-7c32722c50e2');\n",
              "var x = new MutationObserver(function (mutations, observer) {{\n",
              "        var display = window.getComputedStyle(gd).display;\n",
              "        if (!display || display === 'none') {{\n",
              "            console.log([gd, 'removed!']);\n",
              "            Plotly.purge(gd);\n",
              "            observer.disconnect();\n",
              "        }}\n",
              "}});\n",
              "\n",
              "// Listen for the removal of the full notebook cells\n",
              "var notebookContainer = gd.closest('#notebook-container');\n",
              "if (notebookContainer) {{\n",
              "    x.observe(notebookContainer, {childList: true});\n",
              "}}\n",
              "\n",
              "// Listen for the clearing of the current output cell\n",
              "var outputEl = gd.closest('.output');\n",
              "if (outputEl) {{\n",
              "    x.observe(outputEl, {childList: true});\n",
              "}}\n",
              "\n",
              "                        })\n",
              "                };\n",
              "                \n",
              "            </script>\n",
              "        </div>\n",
              "</body>\n",
              "</html>"
            ]
          },
          "metadata": {
            "tags": []
          }
        }
      ]
    },
    {
      "cell_type": "markdown",
      "metadata": {
        "id": "mkyubuJSOzg3",
        "colab_type": "text"
      },
      "source": [
        "# 5. Performance On Test Set"
      ]
    },
    {
      "cell_type": "markdown",
      "metadata": {
        "id": "DosV94BYIYxg",
        "colab_type": "text"
      },
      "source": [
        "Now we'll load the holdout dataset and prepare inputs just as we did with the training set. Then we'll evaluate predictions using [Matthew's correlation coefficient](https://scikit-learn.org/stable/modules/generated/sklearn.metrics.matthews_corrcoef.html) because this is the metric used by the wider NLP community to evaluate performance on CoLA. With this metric, +1 is the best score, and -1 is the worst score. This way, we can see how well we perform against the state of the art models for this specific task."
      ]
    },
    {
      "cell_type": "markdown",
      "metadata": {
        "id": "Tg42jJqqM68F",
        "colab_type": "text"
      },
      "source": [
        "### 5.1. Data Preparation\n"
      ]
    },
    {
      "cell_type": "markdown",
      "metadata": {
        "id": "xWe0_JW21MyV",
        "colab_type": "text"
      },
      "source": [
        "\n",
        "We'll need to apply all of the same steps that we did for the training data to prepare our test data set."
      ]
    },
    {
      "cell_type": "code",
      "metadata": {
        "id": "mAN0LZBOOPVh",
        "colab_type": "code",
        "colab": {
          "base_uri": "https://localhost:8080/",
          "height": 51
        },
        "outputId": "fa216d85-3656-415d-fd95-2974617e48d7"
      },
      "source": [
        "import pandas as pd\n",
        "\n",
        "# Load the dataset into a pandas dataframe.\n",
        "df = pd.read_csv(\"./cola_public/raw/out_of_domain_dev.tsv\", delimiter='\\t', header=None, names=['sentence_source', 'label', 'label_notes', 'sentence'])\n",
        "\n",
        "# Report the number of sentences.\n",
        "print('Number of test sentences: {:,}\\n'.format(df.shape[0]))\n",
        "\n",
        "# Create sentence and label lists\n",
        "sentences = df.sentence.values\n",
        "labels = df.label.values\n",
        "\n",
        "# Tokenize all of the sentences and map the tokens to thier word IDs.\n",
        "input_ids = []\n",
        "\n",
        "# For every sentence...\n",
        "for sent in sentences:\n",
        "    # `encode` will:\n",
        "    #   (1) Tokenize the sentence.\n",
        "    #   (2) Prepend the `[CLS]` token to the start.\n",
        "    #   (3) Append the `[SEP]` token to the end.\n",
        "    #   (4) Map tokens to their IDs.\n",
        "    encoded_sent = tokenizer.encode(\n",
        "                        sent,                      # Sentence to encode.\n",
        "                        add_special_tokens = True, # Add '[CLS]' and '[SEP]'\n",
        "                   )\n",
        "    \n",
        "    input_ids.append(encoded_sent)\n",
        "\n",
        "# Pad our input tokens\n",
        "input_ids = pad_sequences(input_ids, maxlen=MAX_LEN, \n",
        "                          dtype=\"long\", truncating=\"post\", padding=\"post\")\n",
        "\n",
        "# Create attention masks\n",
        "attention_masks = []\n",
        "\n",
        "# Create a mask of 1s for each token followed by 0s for padding\n",
        "for seq in input_ids:\n",
        "  seq_mask = [float(i>0) for i in seq]\n",
        "  attention_masks.append(seq_mask) \n",
        "\n",
        "# Convert to tensors.\n",
        "prediction_inputs = torch.tensor(input_ids)\n",
        "prediction_masks = torch.tensor(attention_masks)\n",
        "prediction_labels = torch.tensor(labels)\n",
        "\n",
        "# Set the batch size.  \n",
        "batch_size = 32  \n",
        "\n",
        "# Create the DataLoader.\n",
        "prediction_data = TensorDataset(prediction_inputs, prediction_masks, prediction_labels)\n",
        "prediction_sampler = SequentialSampler(prediction_data)\n",
        "prediction_dataloader = DataLoader(prediction_data, sampler=prediction_sampler, batch_size=batch_size)"
      ],
      "execution_count": 37,
      "outputs": [
        {
          "output_type": "stream",
          "text": [
            "Number of test sentences: 516\n",
            "\n"
          ],
          "name": "stdout"
        }
      ]
    },
    {
      "cell_type": "markdown",
      "metadata": {
        "id": "16lctEOyNFik",
        "colab_type": "text"
      },
      "source": [
        "## 5.2. Evaluate on Test Set\n"
      ]
    },
    {
      "cell_type": "markdown",
      "metadata": {
        "id": "rhR99IISNMg9",
        "colab_type": "text"
      },
      "source": [
        "\n",
        "With the test set prepared, we can apply our fine-tuned model to generate predictions on the test set."
      ]
    },
    {
      "cell_type": "code",
      "metadata": {
        "id": "Hba10sXR7Xi6",
        "colab_type": "code",
        "colab": {
          "base_uri": "https://localhost:8080/",
          "height": 51
        },
        "outputId": "f8db6a0e-00ea-49a7-dea4-c634989d6aec"
      },
      "source": [
        "# Prediction on test set\n",
        "\n",
        "print('Predicting labels for {:,} test sentences...'.format(len(prediction_inputs)))\n",
        "\n",
        "# Put model in evaluation mode\n",
        "model.eval()\n",
        "\n",
        "# Tracking variables \n",
        "predictions , true_labels = [], []\n",
        "\n",
        "# Predict \n",
        "for batch in prediction_dataloader:\n",
        "  # Add batch to GPU\n",
        "  batch = tuple(t.to(device) for t in batch)\n",
        "  \n",
        "  # Unpack the inputs from our dataloader\n",
        "  b_input_ids, b_input_mask, b_labels = batch\n",
        "  \n",
        "  # Telling the model not to compute or store gradients, saving memory and \n",
        "  # speeding up prediction\n",
        "  with torch.no_grad():\n",
        "      # Forward pass, calculate logit predictions\n",
        "      outputs = model(b_input_ids, token_type_ids=None, \n",
        "                      attention_mask=b_input_mask)\n",
        "\n",
        "  logits = outputs[0]\n",
        "\n",
        "  # Move logits and labels to CPU\n",
        "  logits = logits.detach().cpu().numpy()\n",
        "  label_ids = b_labels.to('cpu').numpy()\n",
        "  \n",
        "  # Store predictions and true labels\n",
        "  predictions.append(logits)\n",
        "  true_labels.append(label_ids)\n",
        "\n",
        "print('DONE.')"
      ],
      "execution_count": 38,
      "outputs": [
        {
          "output_type": "stream",
          "text": [
            "Predicting labels for 516 test sentences...\n",
            "DONE.\n"
          ],
          "name": "stdout"
        }
      ]
    },
    {
      "cell_type": "markdown",
      "metadata": {
        "id": "-5jscIM8R4Gv",
        "colab_type": "text"
      },
      "source": [
        "Accuracy on the CoLA benchmark is measured using the \"[Matthews correlation coefficient](https://scikit-learn.org/stable/modules/generated/sklearn.metrics.matthews_corrcoef.html)\" (MCC).\n",
        "\n",
        "We use MCC here because the classes are imbalanced:\n"
      ]
    },
    {
      "cell_type": "code",
      "metadata": {
        "id": "hWcy0X1hirdx",
        "colab_type": "code",
        "colab": {
          "base_uri": "https://localhost:8080/",
          "height": 34
        },
        "outputId": "2c77f9f0-0951-4dbf-9144-66e26b6434a3"
      },
      "source": [
        "print('Positive samples: %d of %d (%.2f%%)' % (df.label.sum(), len(df.label), (df.label.sum() / len(df.label) * 100.0)))"
      ],
      "execution_count": null,
      "outputs": [
        {
          "output_type": "stream",
          "text": [
            "Positive samples: 354 of 516 (68.60%)\n"
          ],
          "name": "stdout"
        }
      ]
    },
    {
      "cell_type": "code",
      "metadata": {
        "id": "cRaZQ4XC7kLs",
        "colab_type": "code",
        "colab": {
          "base_uri": "https://localhost:8080/",
          "height": 102
        },
        "outputId": "fc80a04d-ad14-4ade-8e96-0d4db1e6971c"
      },
      "source": [
        "from sklearn.metrics import matthews_corrcoef\n",
        "\n",
        "matthews_set = []\n",
        "\n",
        "# Evaluate each test batch using Matthew's correlation coefficient\n",
        "print('Calculating Matthews Corr. Coef. for each batch...')\n",
        "\n",
        "# For each input batch...\n",
        "for i in range(len(true_labels)):\n",
        "  \n",
        "  # The predictions for this batch are a 2-column ndarray (one column for \"0\" \n",
        "  # and one column for \"1\"). Pick the label with the highest value and turn this\n",
        "  # in to a list of 0s and 1s.\n",
        "  pred_labels_i = np.argmax(predictions[i], axis=1).flatten()\n",
        "  \n",
        "  # Calculate and store the coef for this batch.  \n",
        "  matthews = matthews_corrcoef(true_labels[i], pred_labels_i)                \n",
        "  matthews_set.append(matthews)"
      ],
      "execution_count": 39,
      "outputs": [
        {
          "output_type": "stream",
          "text": [
            "Calculating Matthews Corr. Coef. for each batch...\n"
          ],
          "name": "stdout"
        },
        {
          "output_type": "stream",
          "text": [
            "/usr/local/lib/python3.6/dist-packages/sklearn/metrics/_classification.py:900: RuntimeWarning:\n",
            "\n",
            "invalid value encountered in double_scalars\n",
            "\n"
          ],
          "name": "stderr"
        }
      ]
    },
    {
      "cell_type": "markdown",
      "metadata": {
        "id": "IUM0UA1qJaVB",
        "colab_type": "text"
      },
      "source": [
        "The final score will be based on the entire test set, but let's take a look at the scores on the individual batches to get a sense of the variability in the metric between batches. \n",
        "\n",
        "Each batch has 32 sentences in it, except the last batch which has only (516 % 32) = 4 test sentences in it.\n"
      ]
    },
    {
      "cell_type": "code",
      "metadata": {
        "id": "xytAr_C48wnu",
        "colab_type": "code",
        "colab": {
          "base_uri": "https://localhost:8080/",
          "height": 306
        },
        "outputId": "e2ca0d70-c243-41d8-9fb7-d15b51c31f10"
      },
      "source": [
        "matthews_set"
      ],
      "execution_count": null,
      "outputs": [
        {
          "output_type": "execute_result",
          "data": {
            "text/plain": [
              "[0.049286405809014416,\n",
              " -0.050964719143762556,\n",
              " 0.4040950971038548,\n",
              " 0.41179801403140964,\n",
              " 0.32328707534629597,\n",
              " 0.7410010097502685,\n",
              " 0.5269860393922079,\n",
              " 0.0,\n",
              " 0.9165151389911681,\n",
              " 0.7530836820370708,\n",
              " 0.8459051693633014,\n",
              " 0.5673665146135802,\n",
              " 0.8150678894028793,\n",
              " 0.7141684885491869,\n",
              " 0.4622501635210242,\n",
              " 0.5056936741642399,\n",
              " 0.0]"
            ]
          },
          "metadata": {
            "tags": []
          },
          "execution_count": 37
        }
      ]
    },
    {
      "cell_type": "code",
      "metadata": {
        "id": "oCYZa1lQ8Jn8",
        "colab_type": "code",
        "colab": {
          "base_uri": "https://localhost:8080/",
          "height": 34
        },
        "outputId": "67caa6d4-d7c4-4068-f39c-16e38d52581d"
      },
      "source": [
        "# Combine the predictions for each batch into a single list of 0s and 1s.\n",
        "flat_predictions = [item for sublist in predictions for item in sublist]\n",
        "flat_predictions = np.argmax(flat_predictions, axis=1).flatten()\n",
        "\n",
        "# Combine the correct labels for each batch into a single list.\n",
        "flat_true_labels = [item for sublist in true_labels for item in sublist]\n",
        "\n",
        "# Calculate the MCC\n",
        "mcc = matthews_corrcoef(flat_true_labels, flat_predictions)\n",
        "\n",
        "print('MCC: %.3f' % mcc)"
      ],
      "execution_count": null,
      "outputs": [
        {
          "output_type": "stream",
          "text": [
            "MCC: 0.540\n"
          ],
          "name": "stdout"
        }
      ]
    },
    {
      "cell_type": "markdown",
      "metadata": {
        "id": "jXx0jPc4HUfZ",
        "colab_type": "text"
      },
      "source": [
        "Cool! In about half an hour and without doing any hyperparameter tuning (adjusting the learning rate, epochs, batch size, ADAM properties, etc.) we are able to get a good score. I should also mention we didn't train on the entire training dataset, but set aside a portion of it as our validation set for legibililty of code.\n",
        "\n",
        "The library documents the expected accuracy for this benchmark [here](https://huggingface.co/transformers/examples.html#glue).\n",
        "\n",
        "You can also look at the official leaderboard [here](https://gluebenchmark.com/leaderboard/submission/zlssuBTm5XRs0aSKbFYGVIVdvbj1/-LhijX9VVmvJcvzKymxy). \n",
        "\n",
        "Note that (due to the small dataset size?) the accuracy can vary significantly with different random seeds.\n"
      ]
    },
    {
      "cell_type": "markdown",
      "metadata": {
        "id": "GfjYoa6WmkN6",
        "colab_type": "text"
      },
      "source": [
        "# Conclusion"
      ]
    },
    {
      "cell_type": "markdown",
      "metadata": {
        "id": "xlQG7qgkmf4n",
        "colab_type": "text"
      },
      "source": [
        "This post demonstrates that with a pre-trained BERT model you can quickly and effectively create a high quality model with minimal effort and training time using the pytorch interface, regardless of the specific NLP task you are interested in."
      ]
    },
    {
      "cell_type": "markdown",
      "metadata": {
        "id": "YUmsUOIv8EUO",
        "colab_type": "text"
      },
      "source": [
        "# Appendix\n"
      ]
    },
    {
      "cell_type": "markdown",
      "metadata": {
        "id": "q2079Qyn8Mt8",
        "colab_type": "text"
      },
      "source": [
        "## A1. Saving & Loading Fine-Tuned Model\n",
        "\n",
        "This first cell (taken from `run_glue.py` [here](https://github.com/huggingface/transformers/blob/35ff345fc9df9e777b27903f11fa213e4052595b/examples/run_glue.py#L495)) writes the model and tokenizer out to disk."
      ]
    },
    {
      "cell_type": "code",
      "metadata": {
        "id": "6ulTWaOr8QNY",
        "colab_type": "code",
        "colab": {
          "base_uri": "https://localhost:8080/",
          "height": 85
        },
        "outputId": "b71e5070-dd53-41b7-c03c-53ae5285cf76"
      },
      "source": [
        "import os\n",
        "\n",
        "# Saving best-practices: if you use defaults names for the model, you can reload it using from_pretrained()\n",
        "\n",
        "output_dir = './model_save/'\n",
        "\n",
        "# Create output directory if needed\n",
        "if not os.path.exists(output_dir):\n",
        "    os.makedirs(output_dir)\n",
        "\n",
        "print(\"Saving model to %s\" % output_dir)\n",
        "\n",
        "# Save a trained model, configuration and tokenizer using `save_pretrained()`.\n",
        "# They can then be reloaded using `from_pretrained()`\n",
        "model_to_save = model.module if hasattr(model, 'module') else model  # Take care of distributed/parallel training\n",
        "model_to_save.save_pretrained(output_dir)\n",
        "tokenizer.save_pretrained(output_dir)\n",
        "\n",
        "# Good practice: save your training arguments together with the trained model\n",
        "# torch.save(args, os.path.join(output_dir, 'training_args.bin'))\n"
      ],
      "execution_count": null,
      "outputs": [
        {
          "output_type": "stream",
          "text": [
            "Saving model to ./model_save/\n"
          ],
          "name": "stdout"
        },
        {
          "output_type": "execute_result",
          "data": {
            "text/plain": [
              "('./model_save/vocab.txt',\n",
              " './model_save/special_tokens_map.json',\n",
              " './model_save/added_tokens.json')"
            ]
          },
          "metadata": {
            "tags": []
          },
          "execution_count": 41
        }
      ]
    },
    {
      "cell_type": "markdown",
      "metadata": {
        "id": "Z-tjHkR7lc1I",
        "colab_type": "text"
      },
      "source": [
        "Let's check out the file sizes, out of curiosity."
      ]
    },
    {
      "cell_type": "code",
      "metadata": {
        "id": "mqMzI3VTCZo5",
        "colab_type": "code",
        "colab": {
          "base_uri": "https://localhost:8080/",
          "height": 165
        },
        "outputId": "b8adab68-0b67-4ead-d8c9-05c294b58e09"
      },
      "source": [
        "!ls -l --block-size=K ./model_save/"
      ],
      "execution_count": null,
      "outputs": [
        {
          "output_type": "stream",
          "text": [
            "total 427964K\n",
            "-rw-r--r-- 1 root root      1K Jan 29 20:09 added_tokens.json\n",
            "-rw-r--r-- 1 root root      1K Jan 29 20:09 config.json\n",
            "-rw-r--r-- 1 root root 427718K Jan 29 20:09 pytorch_model.bin\n",
            "-rw-r--r-- 1 root root      1K Jan 29 20:09 special_tokens_map.json\n",
            "-rw-r--r-- 1 root root      1K Jan 29 20:09 tokenizer_config.json\n",
            "-rw-r--r-- 1 root root    227K Jan 29 20:09 vocab.txt\n"
          ],
          "name": "stdout"
        }
      ]
    },
    {
      "cell_type": "markdown",
      "metadata": {
        "id": "fr_bt2rFlgDn",
        "colab_type": "text"
      },
      "source": [
        "The largest file is the model weights, at around 418 megabytes."
      ]
    },
    {
      "cell_type": "code",
      "metadata": {
        "id": "-WUFUIQ8Cu8D",
        "colab_type": "code",
        "colab": {
          "base_uri": "https://localhost:8080/",
          "height": 46
        },
        "outputId": "17eb2ace-3f36-4054-c739-49242a61a098"
      },
      "source": [
        "!ls -l --block-size=M ./model_save/pytorch_model.bin"
      ],
      "execution_count": null,
      "outputs": [
        {
          "output_type": "stream",
          "text": [
            "-rw-r--r-- 1 root root 418M Jan 29 20:09 ./model_save/pytorch_model.bin\n"
          ],
          "name": "stdout"
        }
      ]
    },
    {
      "cell_type": "markdown",
      "metadata": {
        "id": "dzGKvOFAll_e",
        "colab_type": "text"
      },
      "source": [
        "To save your model across Colab Notebook sessions, download it to your local machine, or ideally copy it to your Google Drive."
      ]
    },
    {
      "cell_type": "code",
      "metadata": {
        "id": "Trr-A-POC18_",
        "colab_type": "code",
        "colab": {}
      },
      "source": [
        "# Mount Google Drive to this Notebook instance.\n",
        "from google.colab import drive\n",
        "drive.mount('/content/drive')"
      ],
      "execution_count": null,
      "outputs": []
    },
    {
      "cell_type": "code",
      "metadata": {
        "id": "NxlZsafTC-V5",
        "colab_type": "code",
        "colab": {
          "base_uri": "https://localhost:8080/",
          "height": 123
        },
        "outputId": "a4410edf-b241-4ccb-cfa4-487ab40742d4"
      },
      "source": [
        "# Copy the model files to a directory in your Google Drive.\n",
        "!cp -r ./model_save/ \"./drive/Shared drives/ChrisMcCormick.AI/Blog Posts/BERT Fine-Tuning/\""
      ],
      "execution_count": null,
      "outputs": [
        {
          "output_type": "stream",
          "text": [
            "cp: cannot create directory './drive/Shared drives/ChrisMcCormick.AI/Blog Posts/BERT Fine-Tuning/': No such file or directory\n"
          ],
          "name": "stdout"
        }
      ]
    },
    {
      "cell_type": "markdown",
      "metadata": {
        "id": "W0vstijw85SZ",
        "colab_type": "text"
      },
      "source": [
        "The following functions will load the model back from disk."
      ]
    },
    {
      "cell_type": "code",
      "metadata": {
        "id": "nskPzUM084zL",
        "colab_type": "code",
        "colab": {
          "base_uri": "https://localhost:8080/",
          "height": 232
        },
        "outputId": "0b6c2736-95a4-42aa-be4c-0d7101f46cf6"
      },
      "source": [
        "# Load a trained model and vocabulary that you have fine-tuned\n",
        "model = model_class.from_pretrained(output_dir)\n",
        "tokenizer = tokenizer_class.from_pretrained(output_dir)\n",
        "\n",
        "# Copy the model to the GPU.\n",
        "model.to(device)"
      ],
      "execution_count": null,
      "outputs": [
        {
          "output_type": "error",
          "ename": "NameError",
          "evalue": "ignored",
          "traceback": [
            "\u001b[0;31m---------------------------------------------------------------------------\u001b[0m",
            "\u001b[0;31mNameError\u001b[0m                                 Traceback (most recent call last)",
            "\u001b[0;32m<ipython-input-45-0f87ba5bacd0>\u001b[0m in \u001b[0;36m<module>\u001b[0;34m()\u001b[0m\n\u001b[0;32m----> 1\u001b[0;31m \u001b[0mmodel\u001b[0m \u001b[0;34m=\u001b[0m \u001b[0mmodel_class\u001b[0m\u001b[0;34m.\u001b[0m\u001b[0mfrom_pretrained\u001b[0m\u001b[0;34m(\u001b[0m\u001b[0moutput_dir\u001b[0m\u001b[0;34m)\u001b[0m\u001b[0;34m\u001b[0m\u001b[0;34m\u001b[0m\u001b[0m\n\u001b[0m\u001b[1;32m      2\u001b[0m \u001b[0mtokenizer\u001b[0m \u001b[0;34m=\u001b[0m \u001b[0mtokenizer_class\u001b[0m\u001b[0;34m.\u001b[0m\u001b[0mfrom_pretrained\u001b[0m\u001b[0;34m(\u001b[0m\u001b[0moutput_dir\u001b[0m\u001b[0;34m)\u001b[0m\u001b[0;34m\u001b[0m\u001b[0;34m\u001b[0m\u001b[0m\n\u001b[1;32m      3\u001b[0m \u001b[0;34m\u001b[0m\u001b[0m\n\u001b[1;32m      4\u001b[0m \u001b[0;31m# Copy the model to the GPU.\u001b[0m\u001b[0;34m\u001b[0m\u001b[0;34m\u001b[0m\u001b[0;34m\u001b[0m\u001b[0m\n\u001b[1;32m      5\u001b[0m \u001b[0mmodel\u001b[0m\u001b[0;34m.\u001b[0m\u001b[0mto\u001b[0m\u001b[0;34m(\u001b[0m\u001b[0mdevice\u001b[0m\u001b[0;34m)\u001b[0m\u001b[0;34m\u001b[0m\u001b[0;34m\u001b[0m\u001b[0m\n",
            "\u001b[0;31mNameError\u001b[0m: name 'model_class' is not defined"
          ]
        }
      ]
    },
    {
      "cell_type": "markdown",
      "metadata": {
        "id": "NIWouvDrGVAi",
        "colab_type": "text"
      },
      "source": [
        "## A.2. Weight Decay\n",
        "\n"
      ]
    },
    {
      "cell_type": "markdown",
      "metadata": {
        "id": "f123ZAlF1OyW",
        "colab_type": "text"
      },
      "source": [
        "The huggingface example includes the following code block for enabling weight decay, but the default decay rate is \"0.0\", so I moved this to the appendix.\n",
        "\n",
        "This block essentially tells the optimizer to not apply weight decay to the bias terms (e.g., $ b $ in the equation $ y = Wx + b $ ). Weight decay is a form of regularization--after calculating the gradients, we multiply them by, e.g., 0.99."
      ]
    },
    {
      "cell_type": "code",
      "metadata": {
        "id": "QxSMw0FrptiL",
        "colab_type": "code",
        "colab": {}
      },
      "source": [
        "# This code is taken from:\n",
        "# https://github.com/huggingface/transformers/blob/5bfcd0485ece086ebcbed2d008813037968a9e58/examples/run_glue.py#L102\n",
        "\n",
        "# Don't apply weight decay to any parameters whose names include these tokens.\n",
        "# (Here, the BERT doesn't have `gamma` or `beta` parameters, only `bias` terms)\n",
        "no_decay = ['bias', 'LayerNorm.weight']\n",
        "\n",
        "# Separate the `weight` parameters from the `bias` parameters. \n",
        "# - For the `weight` parameters, this specifies a 'weight_decay_rate' of 0.01. \n",
        "# - For the `bias` parameters, the 'weight_decay_rate' is 0.0. \n",
        "optimizer_grouped_parameters = [\n",
        "    # Filter for all parameters which *don't* include 'bias', 'gamma', 'beta'.\n",
        "    {'params': [p for n, p in param_optimizer if not any(nd in n for nd in no_decay)],\n",
        "     'weight_decay_rate': 0.1},\n",
        "    \n",
        "    # Filter for parameters which *do* include those.\n",
        "    {'params': [p for n, p in param_optimizer if any(nd in n for nd in no_decay)],\n",
        "     'weight_decay_rate': 0.0}\n",
        "]\n",
        "\n",
        "# Note - `optimizer_grouped_parameters` only includes the parameter values, not \n",
        "# the names."
      ],
      "execution_count": null,
      "outputs": []
    },
    {
      "cell_type": "code",
      "metadata": {
        "id": "GtFSFzJd7IKh",
        "colab_type": "code",
        "colab": {}
      },
      "source": [
        ""
      ],
      "execution_count": null,
      "outputs": []
    }
  ]
}